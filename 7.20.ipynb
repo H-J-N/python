{
 "cells": [
  {
   "cell_type": "markdown",
   "metadata": {},
   "source": [
    "# 函数\n",
    "\n",
    "- 函数可以用来定义可重复代码，组织和简化\n",
    "- 一般来说一个函数在实际开发中为一个小功能\n",
    "- 一个类为一个大功能\n",
    "- 同样函数的长度不要超过一屏"
   ]
  },
  {
   "cell_type": "markdown",
   "metadata": {},
   "source": [
    "Python中的所有函数实际上都是有返回值(return None),\n",
    "\n",
    "如果你没有设置return,那么Python将不显示None.\n",
    "\n",
    "如果你设置return,那么将返回出return这个值."
   ]
  },
  {
   "cell_type": "markdown",
   "metadata": {},
   "source": [
    "## 定义一个函数\n",
    "\n",
    "def function_name(list of parameters):\n",
    "    \n",
    "    do something\n",
    "![](../Photo/69.png)\n",
    "- 以前使用的random 或者range 或者print.. 其实都是函数或者类"
   ]
  },
  {
   "cell_type": "markdown",
   "metadata": {},
   "source": [
    "函数的参数如果有默认值的情况,当你调用该函数的时候:\n",
    "可以不给予参数值,那么就会走该参数的默认值\n",
    "否则的话,就走你给予的参数值."
   ]
  },
  {
   "cell_type": "markdown",
   "metadata": {},
   "source": [
    "## 调用一个函数\n",
    "- functionName()\n",
    "- \"()\" 就代表调用"
   ]
  },
  {
   "cell_type": "code",
   "execution_count": 1,
   "metadata": {},
   "outputs": [],
   "source": [
    "def HJN():\n",
    "    print('HHJJNN')"
   ]
  },
  {
   "cell_type": "code",
   "execution_count": 2,
   "metadata": {},
   "outputs": [
    {
     "name": "stdout",
     "output_type": "stream",
     "text": [
      "HHJJNN\n"
     ]
    }
   ],
   "source": [
    "HJN()"
   ]
  },
  {
   "cell_type": "code",
   "execution_count": 3,
   "metadata": {},
   "outputs": [
    {
     "data": {
      "text/plain": [
       "<function __main__.HJN()>"
      ]
     },
     "execution_count": 3,
     "metadata": {},
     "output_type": "execute_result"
    }
   ],
   "source": [
    "HJN"
   ]
  },
  {
   "cell_type": "code",
   "execution_count": 4,
   "metadata": {},
   "outputs": [],
   "source": [
    "def panduan(number):\n",
    "    if number%2==0:\n",
    "        print(number,'偶数')\n",
    "    else:\n",
    "        print(number,'奇数')\n",
    "    "
   ]
  },
  {
   "cell_type": "code",
   "execution_count": 7,
   "metadata": {},
   "outputs": [
    {
     "name": "stdout",
     "output_type": "stream",
     "text": [
      "3 奇数\n"
     ]
    }
   ],
   "source": [
    "panduan(number=3)"
   ]
  },
  {
   "cell_type": "code",
   "execution_count": 6,
   "metadata": {},
   "outputs": [
    {
     "name": "stdout",
     "output_type": "stream",
     "text": [
      "4 偶数\n"
     ]
    }
   ],
   "source": [
    "panduan(4)"
   ]
  },
  {
   "cell_type": "code",
   "execution_count": 11,
   "metadata": {},
   "outputs": [],
   "source": [
    "def max_(num1,num2,num3):\n",
    "    if num1>num2>num3:\n",
    "        result = num1\n",
    "    elif num1>num3>num2:\n",
    "        result = num1\n",
    "    elif num2>num3>num1:\n",
    "        result = num2\n",
    "    elif num2>num1>num3:\n",
    "        result = num2\n",
    "    elif num3>num1>num2:\n",
    "        result = num3\n",
    "    elif num3>num2>num1:\n",
    "        result = num3\n",
    "    return result"
   ]
  },
  {
   "cell_type": "code",
   "execution_count": 12,
   "metadata": {},
   "outputs": [
    {
     "data": {
      "text/plain": [
       "9"
      ]
     },
     "execution_count": 12,
     "metadata": {},
     "output_type": "execute_result"
    }
   ],
   "source": [
    "max_(2,6,9)"
   ]
  },
  {
   "cell_type": "code",
   "execution_count": 14,
   "metadata": {},
   "outputs": [],
   "source": [
    "import random"
   ]
  },
  {
   "cell_type": "code",
   "execution_count": 15,
   "metadata": {},
   "outputs": [],
   "source": [
    "a=random.randint(0,10)\n",
    "def suijishu(x):\n",
    "    if x>a:\n",
    "        print('太大了！')\n",
    "    elif x<a:\n",
    "        print('太小了！')\n",
    "    elif x==a:\n",
    "        print('smart')"
   ]
  },
  {
   "cell_type": "code",
   "execution_count": 20,
   "metadata": {},
   "outputs": [
    {
     "name": "stdout",
     "output_type": "stream",
     "text": [
      "smart\n"
     ]
    }
   ],
   "source": [
    "suijishu(0)"
   ]
  },
  {
   "cell_type": "code",
   "execution_count": null,
   "metadata": {},
   "outputs": [],
   "source": [
    "n=random.randint(0,5)\n",
    "while 1:\n",
    "    N"
   ]
  },
  {
   "cell_type": "markdown",
   "metadata": {},
   "source": [
    "![](../Photo/70.png)"
   ]
  },
  {
   "cell_type": "code",
   "execution_count": 21,
   "metadata": {},
   "outputs": [],
   "source": [
    "def H():\n",
    "    print('hahaha')"
   ]
  },
  {
   "cell_type": "code",
   "execution_count": 22,
   "metadata": {},
   "outputs": [],
   "source": [
    "def B():\n",
    "      H()"
   ]
  },
  {
   "cell_type": "code",
   "execution_count": 23,
   "metadata": {},
   "outputs": [
    {
     "name": "stdout",
     "output_type": "stream",
     "text": [
      "hahaha\n"
     ]
    }
   ],
   "source": [
    "B()"
   ]
  },
  {
   "cell_type": "markdown",
   "metadata": {},
   "source": [
    "## 带返回值和不带返回值的函数\n",
    "- return 返回的内容\n",
    "- return 返回多个值\n",
    "- 一般情况下，在多个函数协同完成一个功能的时候，那么将会有返回值"
   ]
  },
  {
   "cell_type": "markdown",
   "metadata": {},
   "source": [
    "![](../Photo/71.png)\n",
    "\n",
    "- 当然也可以自定义返回None"
   ]
  },
  {
   "cell_type": "markdown",
   "metadata": {},
   "source": [
    "## EP：\n",
    "![](../Photo/72.png)"
   ]
  },
  {
   "cell_type": "markdown",
   "metadata": {},
   "source": [
    "## 类型和关键字参数\n",
    "- 普通参数\n",
    "- 多个参数\n",
    "- 默认值参数\n",
    "- 不定长参数"
   ]
  },
  {
   "cell_type": "markdown",
   "metadata": {},
   "source": [
    "## 普通参数"
   ]
  },
  {
   "cell_type": "markdown",
   "metadata": {},
   "source": [
    "## 多个参数"
   ]
  },
  {
   "cell_type": "markdown",
   "metadata": {},
   "source": [
    "## 默认值参数"
   ]
  },
  {
   "cell_type": "markdown",
   "metadata": {},
   "source": [
    "## 强制命名"
   ]
  },
  {
   "cell_type": "code",
   "execution_count": 24,
   "metadata": {},
   "outputs": [],
   "source": [
    "def feizhuliu(*,name):\n",
    "    print('hello',name)"
   ]
  },
  {
   "cell_type": "code",
   "execution_count": 26,
   "metadata": {},
   "outputs": [
    {
     "name": "stdout",
     "output_type": "stream",
     "text": [
      "hello xingjianan\n"
     ]
    }
   ],
   "source": [
    "feizhuliu(name='xingjianan')"
   ]
  },
  {
   "cell_type": "markdown",
   "metadata": {},
   "source": [
    "## 不定长参数\n",
    "- \\*args\n",
    "> - 不定长，来多少装多少，不装也是可以的\n",
    "  - 返回的数据类型是元组\n",
    "  - args 名字是可以修改的，只是我们约定俗成的是args\n",
    "- \\**kwargs \n",
    "> - 返回的字典\n",
    "  - 输入的一定要是表达式（键值对）\n",
    "- name,\\*args,name2,\\**kwargs  使用参数名"
   ]
  },
  {
   "cell_type": "code",
   "execution_count": 27,
   "metadata": {},
   "outputs": [],
   "source": [
    "def xxxxx(*args):\n",
    "    print(args)"
   ]
  },
  {
   "cell_type": "code",
   "execution_count": 28,
   "metadata": {},
   "outputs": [
    {
     "name": "stdout",
     "output_type": "stream",
     "text": [
      "(12, 3, 4, 5, 5, 6, 6, 7, 8, 8, 9, 7, 6, 5)\n"
     ]
    }
   ],
   "source": [
    "xxxxx(12,3,4,5,5,6,6,7,8,8,9,7,6,5,)"
   ]
  },
  {
   "cell_type": "code",
   "execution_count": 29,
   "metadata": {},
   "outputs": [],
   "source": [
    "def xxx(*bidaxiao):\n",
    "    print(bidaxiao)\n",
    "    for i in bidaxiao:\n",
    "        if i1>i2>*i:\n",
    "            print"
   ]
  },
  {
   "cell_type": "code",
   "execution_count": 30,
   "metadata": {},
   "outputs": [],
   "source": [
    "def max_(*args):\n",
    "    res = 0\n",
    "    for i in args:\n",
    "        if i >res:\n",
    "            res = i \n",
    "    return res"
   ]
  },
  {
   "cell_type": "code",
   "execution_count": 31,
   "metadata": {},
   "outputs": [
    {
     "data": {
      "text/plain": [
       "9"
      ]
     },
     "execution_count": 31,
     "metadata": {},
     "output_type": "execute_result"
    }
   ],
   "source": [
    "max_(1,3,7,9)"
   ]
  },
  {
   "cell_type": "code",
   "execution_count": 34,
   "metadata": {},
   "outputs": [],
   "source": [
    "def sum_(*args):\n",
    "    res = 0\n",
    "    count=1\n",
    "    for i in args:\n",
    "        res+=i\n",
    "        count+=1\n",
    "    mean = res / (count - 1)\n",
    "    return res,mean    "
   ]
  },
  {
   "cell_type": "code",
   "execution_count": 35,
   "metadata": {},
   "outputs": [
    {
     "data": {
      "text/plain": [
       "(15, 3.0)"
      ]
     },
     "execution_count": 35,
     "metadata": {},
     "output_type": "execute_result"
    }
   ],
   "source": [
    "sum_(1,2,3,4,5)"
   ]
  },
  {
   "cell_type": "code",
   "execution_count": null,
   "metadata": {},
   "outputs": [],
   "source": []
  },
  {
   "cell_type": "markdown",
   "metadata": {},
   "source": [
    "## 变量的作用域\n",
    "- 局部变量 local\n",
    "- 全局变量 global\n",
    "- globals 函数返回一个全局变量的字典，包括所有导入的变量\n",
    "- locals() 函数会以字典类型返回当前位置的全部局部变量。"
   ]
  },
  {
   "cell_type": "code",
   "execution_count": 44,
   "metadata": {},
   "outputs": [],
   "source": [
    "R = 1000\n",
    "E = 2000\n",
    "def RR():\n",
    "    global R,E\n",
    "    R +=100\n",
    "    print(R)"
   ]
  },
  {
   "cell_type": "code",
   "execution_count": 51,
   "metadata": {},
   "outputs": [
    {
     "name": "stdout",
     "output_type": "stream",
     "text": [
      "1400\n"
     ]
    }
   ],
   "source": [
    "RR()"
   ]
  },
  {
   "cell_type": "code",
   "execution_count": 50,
   "metadata": {},
   "outputs": [
    {
     "data": {
      "text/plain": [
       "{'__name__': '__main__',\n",
       " '__doc__': 'Automatically created module for IPython interactive environment',\n",
       " '__package__': None,\n",
       " '__loader__': None,\n",
       " '__spec__': None,\n",
       " '__builtin__': <module 'builtins' (built-in)>,\n",
       " '__builtins__': <module 'builtins' (built-in)>,\n",
       " '_ih': ['',\n",
       "  \"def HJN():\\n    print('HHJJNN')\",\n",
       "  'HJN()',\n",
       "  'HJN',\n",
       "  \"def panduan(number):\\n    if number%2==0:\\n        print(number,'偶数')\\n    else:\\n        print(number,'奇数')\\n    \",\n",
       "  'panduan(3)',\n",
       "  'panduan(4)',\n",
       "  'panduan(number=3)',\n",
       "  'def max_(num1,num2,num3):\\n    if num1>num2>num3:\\n        result = num1\\n    elif num1>num3>num2:\\n        result = num1\\n    elif num2>num3>num1:\\n        result = num2\\n    elif num2>num1>num3:\\n        result = num2\\n    elif num3>num1>num2:\\n        result = num3\\n    elif num3>num2>num1:',\n",
       "  'def max_(num1,num2,num3):\\n    if num1>num2>num3:\\n        result = num1\\n    elif num1>num3>num2:\\n        result = num1\\n    elif num2>num3>num1:\\n        result = num2\\n    elif num2>num1>num3:\\n        result = num2\\n    elif num3>num1>num2:\\n        result = num3\\n    elif num3>num2>num1:\\n        result = num3',\n",
       "  'max_(2,6,9)',\n",
       "  'def max_(num1,num2,num3):\\n    if num1>num2>num3:\\n        result = num1\\n    elif num1>num3>num2:\\n        result = num1\\n    elif num2>num3>num1:\\n        result = num2\\n    elif num2>num1>num3:\\n        result = num2\\n    elif num3>num1>num2:\\n        result = num3\\n    elif num3>num2>num1:\\n        result = num3\\n    return result',\n",
       "  'max_(2,6,9)',\n",
       "  \"a=random.randint(0,10)\\ndef suijishu(x):\\n    if x>a:\\n        print('太大了！')\\n    elif x<a:\\n        print('太小了！')\\n    elif x==a:\\n        print('smart')\",\n",
       "  'import random',\n",
       "  \"a=random.randint(0,10)\\ndef suijishu(x):\\n    if x>a:\\n        print('太大了！')\\n    elif x<a:\\n        print('太小了！')\\n    elif x==a:\\n        print('smart')\",\n",
       "  'suijishu(5)',\n",
       "  'suijishu(3)',\n",
       "  'suijishu(2)',\n",
       "  'suijishu(1)',\n",
       "  'suijishu(0)',\n",
       "  \"def H():\\n    print('hahaha')\",\n",
       "  'def B():\\n      H()',\n",
       "  'B()',\n",
       "  \"def feizhuliu(name):\\n    print('hello',name)\",\n",
       "  \"feizhuliu('xingjianan')\",\n",
       "  \"feizhuliu(name='xingjianan')\",\n",
       "  'def xxxxx(*args):\\n    print(args)',\n",
       "  'xxxxx(12,3,4,5,5,6,6,7,8,8,9,7,6,5,)',\n",
       "  'def xxx(*bidaxiao):\\n    print(bidaxiao)',\n",
       "  'def max_(*args):\\n    res = 0\\n    for i in args:\\n        if i >res:\\n            res = i \\n    return res',\n",
       "  'max_(1,3,7,9)',\n",
       "  'def sum_(*args):\\n    b = 0\\n    for i in args:\\n        res+=i\\n    return res\\n        \\n    ',\n",
       "  'sum_(1,2,3,4,5)',\n",
       "  'def sum_(*args):\\n    res = 0\\n    count=1\\n    for i in args:\\n        res+=i\\n        count+=1\\n    mean = res / (count - 1)\\n    return res,mean\\n        \\n    ',\n",
       "  'sum_(1,2,3,4,5)',\n",
       "  'R = 1000\\n\\ndef RR():\\n    print(R)',\n",
       "  'RR（',\n",
       "  'RR()',\n",
       "  'R = 1000\\n\\ndef RR():\\n    global R\\n    R +=100\\n    print(R)',\n",
       "  'RR()',\n",
       "  'locals()',\n",
       "  'global()',\n",
       "  'globals()',\n",
       "  'R = 1000\\nE = 2000\\ndef RR():\\n    global R,E\\n    R +=100\\n    print(R)',\n",
       "  'RR()',\n",
       "  'R,E()',\n",
       "  'R(),E()',\n",
       "  'RR()',\n",
       "  'RR()',\n",
       "  'globals()'],\n",
       " '_oh': {3: <function __main__.HJN()>,\n",
       "  12: 9,\n",
       "  31: 9,\n",
       "  35: (15, 3.0),\n",
       "  41: {...},\n",
       "  43: {...}},\n",
       " '_dh': ['/Users/applemac/Desktop/Python/Python基础'],\n",
       " 'In': ['',\n",
       "  \"def HJN():\\n    print('HHJJNN')\",\n",
       "  'HJN()',\n",
       "  'HJN',\n",
       "  \"def panduan(number):\\n    if number%2==0:\\n        print(number,'偶数')\\n    else:\\n        print(number,'奇数')\\n    \",\n",
       "  'panduan(3)',\n",
       "  'panduan(4)',\n",
       "  'panduan(number=3)',\n",
       "  'def max_(num1,num2,num3):\\n    if num1>num2>num3:\\n        result = num1\\n    elif num1>num3>num2:\\n        result = num1\\n    elif num2>num3>num1:\\n        result = num2\\n    elif num2>num1>num3:\\n        result = num2\\n    elif num3>num1>num2:\\n        result = num3\\n    elif num3>num2>num1:',\n",
       "  'def max_(num1,num2,num3):\\n    if num1>num2>num3:\\n        result = num1\\n    elif num1>num3>num2:\\n        result = num1\\n    elif num2>num3>num1:\\n        result = num2\\n    elif num2>num1>num3:\\n        result = num2\\n    elif num3>num1>num2:\\n        result = num3\\n    elif num3>num2>num1:\\n        result = num3',\n",
       "  'max_(2,6,9)',\n",
       "  'def max_(num1,num2,num3):\\n    if num1>num2>num3:\\n        result = num1\\n    elif num1>num3>num2:\\n        result = num1\\n    elif num2>num3>num1:\\n        result = num2\\n    elif num2>num1>num3:\\n        result = num2\\n    elif num3>num1>num2:\\n        result = num3\\n    elif num3>num2>num1:\\n        result = num3\\n    return result',\n",
       "  'max_(2,6,9)',\n",
       "  \"a=random.randint(0,10)\\ndef suijishu(x):\\n    if x>a:\\n        print('太大了！')\\n    elif x<a:\\n        print('太小了！')\\n    elif x==a:\\n        print('smart')\",\n",
       "  'import random',\n",
       "  \"a=random.randint(0,10)\\ndef suijishu(x):\\n    if x>a:\\n        print('太大了！')\\n    elif x<a:\\n        print('太小了！')\\n    elif x==a:\\n        print('smart')\",\n",
       "  'suijishu(5)',\n",
       "  'suijishu(3)',\n",
       "  'suijishu(2)',\n",
       "  'suijishu(1)',\n",
       "  'suijishu(0)',\n",
       "  \"def H():\\n    print('hahaha')\",\n",
       "  'def B():\\n      H()',\n",
       "  'B()',\n",
       "  \"def feizhuliu(name):\\n    print('hello',name)\",\n",
       "  \"feizhuliu('xingjianan')\",\n",
       "  \"feizhuliu(name='xingjianan')\",\n",
       "  'def xxxxx(*args):\\n    print(args)',\n",
       "  'xxxxx(12,3,4,5,5,6,6,7,8,8,9,7,6,5,)',\n",
       "  'def xxx(*bidaxiao):\\n    print(bidaxiao)',\n",
       "  'def max_(*args):\\n    res = 0\\n    for i in args:\\n        if i >res:\\n            res = i \\n    return res',\n",
       "  'max_(1,3,7,9)',\n",
       "  'def sum_(*args):\\n    b = 0\\n    for i in args:\\n        res+=i\\n    return res\\n        \\n    ',\n",
       "  'sum_(1,2,3,4,5)',\n",
       "  'def sum_(*args):\\n    res = 0\\n    count=1\\n    for i in args:\\n        res+=i\\n        count+=1\\n    mean = res / (count - 1)\\n    return res,mean\\n        \\n    ',\n",
       "  'sum_(1,2,3,4,5)',\n",
       "  'R = 1000\\n\\ndef RR():\\n    print(R)',\n",
       "  'RR（',\n",
       "  'RR()',\n",
       "  'R = 1000\\n\\ndef RR():\\n    global R\\n    R +=100\\n    print(R)',\n",
       "  'RR()',\n",
       "  'locals()',\n",
       "  'global()',\n",
       "  'globals()',\n",
       "  'R = 1000\\nE = 2000\\ndef RR():\\n    global R,E\\n    R +=100\\n    print(R)',\n",
       "  'RR()',\n",
       "  'R,E()',\n",
       "  'R(),E()',\n",
       "  'RR()',\n",
       "  'RR()',\n",
       "  'globals()'],\n",
       " 'Out': {3: <function __main__.HJN()>,\n",
       "  12: 9,\n",
       "  31: 9,\n",
       "  35: (15, 3.0),\n",
       "  41: {...},\n",
       "  43: {...}},\n",
       " 'get_ipython': <bound method InteractiveShell.get_ipython of <ipykernel.zmqshell.ZMQInteractiveShell object at 0x10b5c8a90>>,\n",
       " 'exit': <IPython.core.autocall.ZMQExitAutocall at 0x10b638128>,\n",
       " 'quit': <IPython.core.autocall.ZMQExitAutocall at 0x10b638128>,\n",
       " '_': {...},\n",
       " '__': {...},\n",
       " '___': (15, 3.0),\n",
       " '_i': 'RR()',\n",
       " '_ii': 'RR()',\n",
       " '_iii': 'R(),E()',\n",
       " '_i1': \"def HJN():\\n    print('HHJJNN')\",\n",
       " 'HJN': <function __main__.HJN()>,\n",
       " '_i2': 'HJN()',\n",
       " '_i3': 'HJN',\n",
       " '_3': <function __main__.HJN()>,\n",
       " '_i4': \"def panduan(number):\\n    if number%2==0:\\n        print(number,'偶数')\\n    else:\\n        print(number,'奇数')\\n    \",\n",
       " 'panduan': <function __main__.panduan(number)>,\n",
       " '_i5': 'panduan(3)',\n",
       " '_i6': 'panduan(4)',\n",
       " '_i7': 'panduan(number=3)',\n",
       " '_i8': 'def max_(num1,num2,num3):\\n    if num1>num2>num3:\\n        result = num1\\n    elif num1>num3>num2:\\n        result = num1\\n    elif num2>num3>num1:\\n        result = num2\\n    elif num2>num1>num3:\\n        result = num2\\n    elif num3>num1>num2:\\n        result = num3\\n    elif num3>num2>num1:',\n",
       " '_i9': 'def max_(num1,num2,num3):\\n    if num1>num2>num3:\\n        result = num1\\n    elif num1>num3>num2:\\n        result = num1\\n    elif num2>num3>num1:\\n        result = num2\\n    elif num2>num1>num3:\\n        result = num2\\n    elif num3>num1>num2:\\n        result = num3\\n    elif num3>num2>num1:\\n        result = num3',\n",
       " 'max_': <function __main__.max_(*args)>,\n",
       " '_i10': 'max_(2,6,9)',\n",
       " '_i11': 'def max_(num1,num2,num3):\\n    if num1>num2>num3:\\n        result = num1\\n    elif num1>num3>num2:\\n        result = num1\\n    elif num2>num3>num1:\\n        result = num2\\n    elif num2>num1>num3:\\n        result = num2\\n    elif num3>num1>num2:\\n        result = num3\\n    elif num3>num2>num1:\\n        result = num3\\n    return result',\n",
       " '_i12': 'max_(2,6,9)',\n",
       " '_12': 9,\n",
       " '_i13': \"a=random.randint(0,10)\\ndef suijishu(x):\\n    if x>a:\\n        print('太大了！')\\n    elif x<a:\\n        print('太小了！')\\n    elif x==a:\\n        print('smart')\",\n",
       " '_i14': 'import random',\n",
       " 'random': <module 'random' from '/anaconda3/lib/python3.7/random.py'>,\n",
       " '_i15': \"a=random.randint(0,10)\\ndef suijishu(x):\\n    if x>a:\\n        print('太大了！')\\n    elif x<a:\\n        print('太小了！')\\n    elif x==a:\\n        print('smart')\",\n",
       " 'a': 0,\n",
       " 'suijishu': <function __main__.suijishu(x)>,\n",
       " '_i16': 'suijishu(5)',\n",
       " '_i17': 'suijishu(3)',\n",
       " '_i18': 'suijishu(2)',\n",
       " '_i19': 'suijishu(1)',\n",
       " '_i20': 'suijishu(0)',\n",
       " '_i21': \"def H():\\n    print('hahaha')\",\n",
       " 'H': <function __main__.H()>,\n",
       " '_i22': 'def B():\\n      H()',\n",
       " 'B': <function __main__.B()>,\n",
       " '_i23': 'B()',\n",
       " '_i24': \"def feizhuliu(name):\\n    print('hello',name)\",\n",
       " 'feizhuliu': <function __main__.feizhuliu(name)>,\n",
       " '_i25': \"feizhuliu('xingjianan')\",\n",
       " '_i26': \"feizhuliu(name='xingjianan')\",\n",
       " '_i27': 'def xxxxx(*args):\\n    print(args)',\n",
       " 'xxxxx': <function __main__.xxxxx(*args)>,\n",
       " '_i28': 'xxxxx(12,3,4,5,5,6,6,7,8,8,9,7,6,5,)',\n",
       " '_i29': 'def xxx(*bidaxiao):\\n    print(bidaxiao)',\n",
       " 'xxx': <function __main__.xxx(*bidaxiao)>,\n",
       " '_i30': 'def max_(*args):\\n    res = 0\\n    for i in args:\\n        if i >res:\\n            res = i \\n    return res',\n",
       " '_i31': 'max_(1,3,7,9)',\n",
       " '_31': 9,\n",
       " '_i32': 'def sum_(*args):\\n    b = 0\\n    for i in args:\\n        res+=i\\n    return res\\n        \\n    ',\n",
       " 'sum_': <function __main__.sum_(*args)>,\n",
       " '_i33': 'sum_(1,2,3,4,5)',\n",
       " '_i34': 'def sum_(*args):\\n    res = 0\\n    count=1\\n    for i in args:\\n        res+=i\\n        count+=1\\n    mean = res / (count - 1)\\n    return res,mean\\n        \\n    ',\n",
       " '_i35': 'sum_(1,2,3,4,5)',\n",
       " '_35': (15, 3.0),\n",
       " '_i36': 'R = 1000\\n\\ndef RR():\\n    print(R)',\n",
       " 'R': 1300,\n",
       " 'RR': <function __main__.RR()>,\n",
       " '_i37': 'RR（',\n",
       " '_i38': 'RR()',\n",
       " '_i39': 'R = 1000\\n\\ndef RR():\\n    global R\\n    R +=100\\n    print(R)',\n",
       " '_i40': 'RR()',\n",
       " '_i41': 'locals()',\n",
       " '_41': {...},\n",
       " '_i42': 'global()',\n",
       " '_i43': 'globals()',\n",
       " '_43': {...},\n",
       " '_i44': 'R = 1000\\nE = 2000\\ndef RR():\\n    global R,E\\n    R +=100\\n    print(R)',\n",
       " 'E': 2000,\n",
       " '_i45': 'RR()',\n",
       " '_i46': 'R,E()',\n",
       " '_i47': 'R(),E()',\n",
       " '_i48': 'RR()',\n",
       " '_i49': 'RR()',\n",
       " '_i50': 'globals()'}"
      ]
     },
     "execution_count": 50,
     "metadata": {},
     "output_type": "execute_result"
    }
   ],
   "source": [
    "globals()"
   ]
  },
  {
   "cell_type": "code",
   "execution_count": 91,
   "metadata": {},
   "outputs": [],
   "source": [
    "def tongji(*args):\n",
    "    shuzi = 0\n",
    "    xiaoxie = 0\n",
    "    daxie = 0\n",
    "    for i in args:\n",
    "        ASCII = ord(i)\n",
    "        if 48<=ASCII<=57:\n",
    "            shuzi+=1\n",
    "        elif 97<=ASCII<=122:\n",
    "            xiaoxie+=1\n",
    "        elif 65<=ASCII<=90:\n",
    "            daxie+=1\n",
    "    return shuzi,xiaoxie,daxie\n"
   ]
  },
  {
   "cell_type": "code",
   "execution_count": 93,
   "metadata": {},
   "outputs": [
    {
     "ename": "TypeError",
     "evalue": "ord() expected string of length 1, but int found",
     "output_type": "error",
     "traceback": [
      "\u001b[0;31m---------------------------------------------------------------------------\u001b[0m",
      "\u001b[0;31mTypeError\u001b[0m                                 Traceback (most recent call last)",
      "\u001b[0;32m<ipython-input-93-8c6a7df131de>\u001b[0m in \u001b[0;36m<module>\u001b[0;34m\u001b[0m\n\u001b[0;32m----> 1\u001b[0;31m \u001b[0mtongji\u001b[0m\u001b[0;34m(\u001b[0m\u001b[0;36m55\u001b[0m\u001b[0;34m)\u001b[0m\u001b[0;34m\u001b[0m\u001b[0;34m\u001b[0m\u001b[0m\n\u001b[0m",
      "\u001b[0;32m<ipython-input-91-f51c42d4bcca>\u001b[0m in \u001b[0;36mtongji\u001b[0;34m(*args)\u001b[0m\n\u001b[1;32m      4\u001b[0m     \u001b[0mdaxie\u001b[0m \u001b[0;34m=\u001b[0m \u001b[0;36m0\u001b[0m\u001b[0;34m\u001b[0m\u001b[0;34m\u001b[0m\u001b[0m\n\u001b[1;32m      5\u001b[0m     \u001b[0;32mfor\u001b[0m \u001b[0mi\u001b[0m \u001b[0;32min\u001b[0m \u001b[0margs\u001b[0m\u001b[0;34m:\u001b[0m\u001b[0;34m\u001b[0m\u001b[0;34m\u001b[0m\u001b[0m\n\u001b[0;32m----> 6\u001b[0;31m         \u001b[0mASCII\u001b[0m \u001b[0;34m=\u001b[0m \u001b[0mord\u001b[0m\u001b[0;34m(\u001b[0m\u001b[0mi\u001b[0m\u001b[0;34m)\u001b[0m\u001b[0;34m\u001b[0m\u001b[0;34m\u001b[0m\u001b[0m\n\u001b[0m\u001b[1;32m      7\u001b[0m         \u001b[0;32mif\u001b[0m \u001b[0;36m48\u001b[0m\u001b[0;34m<=\u001b[0m\u001b[0mASCII\u001b[0m\u001b[0;34m<=\u001b[0m\u001b[0;36m57\u001b[0m\u001b[0;34m:\u001b[0m\u001b[0;34m\u001b[0m\u001b[0;34m\u001b[0m\u001b[0m\n\u001b[1;32m      8\u001b[0m             \u001b[0mshuzi\u001b[0m\u001b[0;34m+=\u001b[0m\u001b[0;36m1\u001b[0m\u001b[0;34m\u001b[0m\u001b[0;34m\u001b[0m\u001b[0m\n",
      "\u001b[0;31mTypeError\u001b[0m: ord() expected string of length 1, but int found"
     ]
    }
   ],
   "source": [
    "tongji(55)"
   ]
  },
  {
   "cell_type": "code",
   "execution_count": 54,
   "metadata": {},
   "outputs": [],
   "source": [
    "def hanshu(n):\n",
    "    res = 0\n",
    "    if n%2==0:\n",
    "        for i in range(2,n+1,2):\n",
    "            res+=1/i\n",
    "    elif n%2!=0:\n",
    "        for j in range(1,n+1,2):\n",
    "            res+=1/j\n",
    "    return res\n",
    "            "
   ]
  },
  {
   "cell_type": "code",
   "execution_count": 58,
   "metadata": {},
   "outputs": [
    {
     "data": {
      "text/plain": [
       "0.75"
      ]
     },
     "execution_count": 58,
     "metadata": {},
     "output_type": "execute_result"
    }
   ],
   "source": [
    "hanshu(4)  "
   ]
  },
  {
   "cell_type": "code",
   "execution_count": 59,
   "metadata": {},
   "outputs": [
    {
     "data": {
      "text/plain": [
       "1.3333333333333333"
      ]
     },
     "execution_count": 59,
     "metadata": {},
     "output_type": "execute_result"
    }
   ],
   "source": [
    "hanshu(3)"
   ]
  },
  {
   "cell_type": "code",
   "execution_count": null,
   "metadata": {},
   "outputs": [],
   "source": [
    "a = input('被加数字')\n",
    "n = int(input('被加几次'))\n",
    "def num(a):\n",
    "    "
   ]
  },
  {
   "cell_type": "code",
   "execution_count": 63,
   "metadata": {},
   "outputs": [],
   "source": [
    "def a():\n",
    "    num = input('>>')\n",
    "    n = input('>>')\n",
    "    res = 0\n",
    "    for i in range(1,int(n)+1):\n",
    "        print(num * i)\n",
    "        res += int(num * i)\n",
    "    return res"
   ]
  },
  {
   "cell_type": "code",
   "execution_count": 66,
   "metadata": {},
   "outputs": [
    {
     "name": "stdout",
     "output_type": "stream",
     "text": [
      ">>4\n",
      ">>6\n",
      "4\n",
      "44\n",
      "444\n",
      "4444\n",
      "44444\n",
      "444444\n"
     ]
    },
    {
     "data": {
      "text/plain": [
       "493824"
      ]
     },
     "execution_count": 66,
     "metadata": {},
     "output_type": "execute_result"
    }
   ],
   "source": [
    "a()"
   ]
  },
  {
   "cell_type": "code",
   "execution_count": null,
   "metadata": {},
   "outputs": [],
   "source": [
    "res=0\n",
    "n=eval(input('被加数字'))\n",
    "for j in range(n):\n",
    "    for j in range(j+1):\n",
    "        res +=n*10**i\n",
    "print(res)"
   ]
  },
  {
   "cell_type": "code",
   "execution_count": 67,
   "metadata": {},
   "outputs": [
    {
     "name": "stdout",
     "output_type": "stream",
     "text": [
      "1\n",
      "2\n",
      "6\n",
      "24\n",
      "120\n",
      "720\n",
      "5040\n",
      "40320\n",
      "362880\n",
      "3628800\n",
      "39916800\n",
      "479001600\n",
      "6227020800\n",
      "87178291200\n",
      "1307674368000\n",
      "20922789888000\n",
      "355687428096000\n",
      "6402373705728000\n",
      "121645100408832000\n",
      "2432902008176640000\n"
     ]
    }
   ],
   "source": [
    "res = 0\n",
    "for i in range(1,21):\n",
    "    rres = 1\n",
    "    for j in range(1,i+1):\n",
    "        rres *= j\n",
    "    print(rres)"
   ]
  },
  {
   "cell_type": "code",
   "execution_count": null,
   "metadata": {},
   "outputs": [],
   "source": [
    "一球从100米高度自由落下，每次落地后反跳回原高度的一半，再落下，求它在第十次落地时，共经过多少米？ "
   ]
  },
  {
   "cell_type": "code",
   "execution_count": 68,
   "metadata": {},
   "outputs": [
    {
     "name": "stdout",
     "output_type": "stream",
     "text": [
      "50.0\n",
      "25.0\n",
      "12.5\n",
      "6.25\n",
      "3.125\n",
      "1.5625\n",
      "0.78125\n",
      "0.390625\n",
      "0.1953125\n",
      "0.09765625\n",
      "299.8046875\n"
     ]
    }
   ],
   "source": [
    "high = 200\n",
    "total = 100\n",
    "for i in range(10):\n",
    "    high/=2\n",
    "    total+=high\n",
    "    print(high/2)\n",
    "print(total)"
   ]
  },
  {
   "cell_type": "markdown",
   "metadata": {},
   "source": [
    "## 注意：\n",
    "- global ：在进行赋值操作的时候需要声明\n",
    "- 官方解释：This is because when you make an assignment to a variable in a scope, that variable becomes local to that scope and shadows any similarly named variable in the outer scope.\n",
    "- ![](../Photo/73.png)"
   ]
  },
  {
   "cell_type": "markdown",
   "metadata": {},
   "source": [
    "# Homework\n",
    "- 1\n",
    "![](../Photo/74.png)"
   ]
  },
  {
   "cell_type": "code",
   "execution_count": 70,
   "metadata": {},
   "outputs": [
    {
     "name": "stdout",
     "output_type": "stream",
     "text": [
      "1    5    12    22    35    51    70    92    117    145    \n",
      "176    210    247    287    330    376    425    477    532    590    \n",
      "651    715    782    852    925    1001    1080    1162    1247    1335    \n",
      "1426    1520    1617    1717    1820    1926    2035    2147    2262    2380    \n",
      "2501    2625    2752    2882    3015    3151    3290    3432    3577    3725    \n",
      "3876    4030    4187    4347    4510    4676    4845    5017    5192    5370    \n",
      "5551    5735    5922    6112    6305    6501    6700    6902    7107    7315    \n",
      "7526    7740    7957    8177    8400    8626    8855    9087    9322    9560    \n",
      "9801    10045    10292    10542    10795    11051    11310    11572    11837    12105    \n",
      "12376    12650    12927    13207    13490    13776    14065    14357    14652    14950    \n"
     ]
    }
   ],
   "source": [
    "def getPentagonalNumber():\n",
    "    a=0\n",
    "    for n in range (1,101):\n",
    "        num=int(n*(3*n-1)/2)\n",
    "        print(num,end='    ')\n",
    "        a+=1\n",
    "        if a%10==0:\n",
    "            print()\n",
    "getPentagonalNumber()"
   ]
  },
  {
   "cell_type": "markdown",
   "metadata": {},
   "source": [
    "- 2 \n",
    "![](../Photo/75.png)"
   ]
  },
  {
   "cell_type": "code",
   "execution_count": 79,
   "metadata": {},
   "outputs": [],
   "source": [
    "def sumdigits(a):\n",
    "    a%100%10+a%100//10+a//100%10+a//1000"
   ]
  },
  {
   "cell_type": "markdown",
   "metadata": {},
   "source": [
    "- 3\n",
    "![](../Photo/76.png)"
   ]
  },
  {
   "cell_type": "code",
   "execution_count": 85,
   "metadata": {},
   "outputs": [],
   "source": [
    "def displaySortedNumbers(num1,num2,num3):\n",
    "    if num1>num2>num3:\n",
    "        print(num3,num2,num1)\n",
    "    elif num1>num3>num2:\n",
    "        print(num2,num3,num1)\n",
    "    elif num2>num1>num3:\n",
    "        print(num3,num1,num2)\n",
    "    elif num2>num3>num1:\n",
    "        print(num1,num3,num2)\n",
    "    elif num3>num2>num1:\n",
    "        print(num1,num2,num3)\n",
    "    elif num3>num1>num2:\n",
    "        print(num2,num1,num3)"
   ]
  },
  {
   "cell_type": "code",
   "execution_count": 89,
   "metadata": {},
   "outputs": [
    {
     "name": "stdout",
     "output_type": "stream",
     "text": [
      "2.4 3 5\n"
     ]
    }
   ],
   "source": [
    "displaySortedNumbers(3,2.4,5)"
   ]
  },
  {
   "cell_type": "code",
   "execution_count": 90,
   "metadata": {},
   "outputs": [
    {
     "name": "stdout",
     "output_type": "stream",
     "text": [
      "12.4 15 31\n"
     ]
    }
   ],
   "source": [
    "displaySortedNumbers(31,12.4,15)"
   ]
  },
  {
   "cell_type": "markdown",
   "metadata": {},
   "source": [
    "- 4\n",
    "![](../Photo/77.png)"
   ]
  },
  {
   "cell_type": "code",
   "execution_count": null,
   "metadata": {},
   "outputs": [],
   "source": [
    "def futureInvestmentValue(investmentAmount,monthLyInterestRate,years):\n",
    "    x = eval(input('The amount invested:'))\n",
    "    y = eval(input('Annual interest rate:'))\n",
    "    for years in range(31):"
   ]
  },
  {
   "cell_type": "markdown",
   "metadata": {},
   "source": [
    "- 5\n",
    "![](../Photo/78.png)"
   ]
  },
  {
   "cell_type": "code",
   "execution_count": 131,
   "metadata": {},
   "outputs": [],
   "source": [
    "def printChars(ch1,ch2,numberPerLine):\n",
    "    for i in range(49,91):\n",
    "        print(chr(i),end = '                    ')"
   ]
  },
  {
   "cell_type": "code",
   "execution_count": 132,
   "metadata": {},
   "outputs": [
    {
     "name": "stdout",
     "output_type": "stream",
     "text": [
      "1                    2                    3                    4                    5                    6                    7                    8                    9                    :                    ;                    <                    =                    >                    ?                    @                    A                    B                    C                    D                    E                    F                    G                    H                    I                    J                    K                    L                    M                    N                    O                    P                    Q                    R                    S                    T                    U                    V                    W                    X                    Y                    Z                    "
     ]
    }
   ],
   "source": [
    "printChars(49,91,10)"
   ]
  },
  {
   "cell_type": "markdown",
   "metadata": {},
   "source": [
    "- 6\n",
    "![](../Photo/79.png)"
   ]
  },
  {
   "cell_type": "code",
   "execution_count": 134,
   "metadata": {},
   "outputs": [
    {
     "name": "stdout",
     "output_type": "stream",
     "text": [
      "有365天\n",
      "有365天\n",
      "有366天\n",
      "有365天\n",
      "有365天\n",
      "有365天\n",
      "有366天\n",
      "有365天\n",
      "有365天\n",
      "有365天\n",
      "有366天\n"
     ]
    }
   ],
   "source": [
    "def number_of_days_in_a_year(year):\n",
    "    if year%4==0 and year%100!=0 or year%400==0:\n",
    "        print('有366天')\n",
    "    else:\n",
    "        print('有365天')\n",
    "for i in range(2010,2021):\n",
    "    number_of_days_in_a_year(i)"
   ]
  },
  {
   "cell_type": "markdown",
   "metadata": {},
   "source": [
    "- 7\n",
    "![](../Photo/80.png)"
   ]
  },
  {
   "cell_type": "code",
   "execution_count": 142,
   "metadata": {},
   "outputs": [
    {
     "name": "stdout",
     "output_type": "stream",
     "text": [
      "输入点坐标！1,1,2,2\n"
     ]
    },
    {
     "data": {
      "text/plain": [
       "0.0"
      ]
     },
     "execution_count": 142,
     "metadata": {},
     "output_type": "execute_result"
    }
   ],
   "source": [
    "def distance(x1,x2,y1,y2):\n",
    "    x=((x2-x1)**2+(y2-y1)**2)**(1/2)\n",
    "    return x\n",
    "x1,x2,y1,y2=eval(input('输入点坐标！'))\n",
    "distance(x1,x2,y1,y2)"
   ]
  },
  {
   "cell_type": "markdown",
   "metadata": {},
   "source": [
    "- 8\n",
    "![](../Photo/81.png)"
   ]
  },
  {
   "cell_type": "code",
   "execution_count": null,
   "metadata": {},
   "outputs": [],
   "source": []
  },
  {
   "cell_type": "markdown",
   "metadata": {},
   "source": [
    "- 9\n",
    "![](../Photo/82.png)\n",
    "![](../Photo/83.png)"
   ]
  },
  {
   "cell_type": "code",
   "execution_count": null,
   "metadata": {},
   "outputs": [],
   "source": []
  },
  {
   "cell_type": "markdown",
   "metadata": {},
   "source": [
    "- 10\n",
    "![](../Photo/84.png)"
   ]
  },
  {
   "cell_type": "markdown",
   "metadata": {},
   "source": [
    "- 11 \n",
    "### 去网上寻找如何用Python代码发送邮件"
   ]
  }
 ],
 "metadata": {
  "kernelspec": {
   "display_name": "Python 3",
   "language": "python",
   "name": "python3"
  },
  "language_info": {
   "codemirror_mode": {
    "name": "ipython",
    "version": 3
   },
   "file_extension": ".py",
   "mimetype": "text/x-python",
   "name": "python",
   "nbconvert_exporter": "python",
   "pygments_lexer": "ipython3",
   "version": "3.7.3"
  }
 },
 "nbformat": 4,
 "nbformat_minor": 2
}
