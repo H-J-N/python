{
 "cells": [
  {
   "cell_type": "markdown",
   "metadata": {},
   "source": [
    "# 对象和类\n",
    "- 一个学生，一张桌子，一个圆都是对象\n",
    "- 对象是类的一个实例，你可以创建多个对象，创建类的一个实例过程被称为实例化，\n",
    "- 在Python中对象就是实例，而实例就是对象"
   ]
  },
  {
   "cell_type": "markdown",
   "metadata": {},
   "source": [
    "## 定义类\n",
    "class ClassName:\n",
    "\n",
    "    do something\n",
    "    \n",
    "- class 类的表示与def 一样\n",
    "- 类名最好使用驼峰式\n",
    "- 在Python2中类是需要继承基类object的，在Python中默认继承，可写可不写\n",
    "- 可以将普通代码理解为皮肤，而函数可以理解为内衣，那么类可以理解为外套"
   ]
  },
  {
   "cell_type": "code",
   "execution_count": 6,
   "metadata": {},
   "outputs": [],
   "source": [
    "#类必须初始化，是用self初始化自身\n",
    "#类里面所有的函数中的第一个变量不再是参数 而是一个印记\n",
    "#在类中，如果有参数需要多次使用，那么就可以将它设置为共享参数\n",
    "class joker:\n",
    "    def __init__(self):#初始化\n",
    "        print('我初始化了')\n",
    "    def print_(self):\n",
    "        print('joker hhh')"
   ]
  },
  {
   "cell_type": "code",
   "execution_count": 7,
   "metadata": {},
   "outputs": [
    {
     "name": "stdout",
     "output_type": "stream",
     "text": [
      "我初始化了\n"
     ]
    }
   ],
   "source": [
    "huwang=joker()# （）代表直接走初始化函数"
   ]
  },
  {
   "cell_type": "code",
   "execution_count": 8,
   "metadata": {},
   "outputs": [
    {
     "name": "stdout",
     "output_type": "stream",
     "text": [
      "joker hhh\n"
     ]
    }
   ],
   "source": [
    "huwang.print_()"
   ]
  },
  {
   "cell_type": "code",
   "execution_count": null,
   "metadata": {},
   "outputs": [],
   "source": [
    "class joker:\n",
    "    def __init__(self,num1,num2):#初始化\n",
    "        print('我初始化了')\n",
    "        #参数共享\n",
    "        self.num1 = num1\n",
    "        self.num2 = num2\n",
    "    def sum_(self,name):\n",
    "        return num1+num2\n",
    "    def cheng(self,name):\n",
    "        return num1*num2\n",
    "        "
   ]
  },
  {
   "cell_type": "code",
   "execution_count": 17,
   "metadata": {},
   "outputs": [],
   "source": [
    "class JandR:\n",
    "    def __init__(self):\n",
    "        print('hahaha')\n",
    "    def J(self,x):        \n",
    "        if x%2==0:\n",
    "            print('ou')\n",
    "        else:\n",
    "            print('ji')\n",
    "    def R(self,year):\n",
    "        if year%4==0 and year%100!=0 or year%400==0:\n",
    "            print('run')\n",
    "        else:\n",
    "            print('ping')"
   ]
  },
  {
   "cell_type": "code",
   "execution_count": 18,
   "metadata": {},
   "outputs": [
    {
     "name": "stdout",
     "output_type": "stream",
     "text": [
      "hahaha\n"
     ]
    }
   ],
   "source": [
    "a = JandR()#创建类的实例"
   ]
  },
  {
   "cell_type": "code",
   "execution_count": 19,
   "metadata": {},
   "outputs": [
    {
     "name": "stdout",
     "output_type": "stream",
     "text": [
      "ou\n"
     ]
    }
   ],
   "source": [
    "a.J(2)"
   ]
  },
  {
   "cell_type": "code",
   "execution_count": 20,
   "metadata": {},
   "outputs": [
    {
     "name": "stdout",
     "output_type": "stream",
     "text": [
      "run\n"
     ]
    }
   ],
   "source": [
    "a.R(2000)"
   ]
  },
  {
   "cell_type": "markdown",
   "metadata": {},
   "source": [
    "## 定义一个不含初始化__init__的简单类\n",
    "class ClassName:\n",
    "\n",
    "    joker = “Home”\n",
    "    \n",
    "    def func():\n",
    "        print('Worker')\n",
    "    \n",
    "- 尽量少使用"
   ]
  },
  {
   "cell_type": "markdown",
   "metadata": {},
   "source": [
    "\n",
    "\n",
    "## 定义一个标准类\n",
    "- __init__ 代表初始化，可以初始化任何动作\n",
    "- 此时类调用要使用()，其中（）可以理解为开始初始化\n",
    "- 初始化内的元素，类中其他的函数可以共享\n",
    "![](../Photo/85.png)"
   ]
  },
  {
   "cell_type": "markdown",
   "metadata": {},
   "source": [
    "- Circle 和 className_ 的第一个区别有 __init__ 这个函数\n",
    "- 。。。。   第二个区别，类中的每一个函数都有self的这个“参数”"
   ]
  },
  {
   "cell_type": "markdown",
   "metadata": {},
   "source": [
    "## 何为self？\n",
    "- self 是指向对象本身的参数\n",
    "- self 只是一个命名规则，其实可以改变的，但是我们约定俗成的是self，也便于理解\n",
    "- 使用了self就可以访问类中定义的成员\n",
    "<img src=\"../Photo/86.png\"></img>"
   ]
  },
  {
   "cell_type": "markdown",
   "metadata": {},
   "source": [
    "## 使用类 Cirlcle"
   ]
  },
  {
   "cell_type": "markdown",
   "metadata": {},
   "source": [
    "## 类的传参\n",
    "- class ClassName:\n",
    "    \n",
    "        def __init__(self, para1,para2...)：\n",
    "            \n",
    "            self.para1 = para1\n",
    "            \n",
    "            self.para2 = para2"
   ]
  },
  {
   "cell_type": "markdown",
   "metadata": {},
   "source": [
    "## EP:\n",
    "- A：定义一个类，类中含有两个功能：\n",
    "    - 1、产生3个随机数，获取最大值\n",
    "    - 2、产生3个随机数，获取最小值\n",
    "- B：定义一个类，（类中函数的嵌套使用）\n",
    "    - 1、第一个函数的功能为：输入一个数字\n",
    "    - 2、第二个函数的功能为：使用第一个函数中得到的数字进行平方处理\n",
    "    - 3、第三个函数的功能为：得到平方处理后的数字 - 原来输入的数字，并打印结果"
   ]
  },
  {
   "cell_type": "code",
   "execution_count": 56,
   "metadata": {},
   "outputs": [],
   "source": [
    "class hanshu:\n",
    "    def __init__(self):\n",
    "        print('初始化')\n",
    "        \n",
    "    def hanshu1(self,x):\n",
    "        self.x = x\n",
    "        return x\n",
    "    def hanshu2(self,y):\n",
    "        y = self.x**2\n",
    "        self.y = y\n",
    "        return self.y\n",
    "    def hanshu3(self,z):\n",
    "        z = self.y - self.x\n",
    "        print(z)"
   ]
  },
  {
   "cell_type": "code",
   "execution_count": 57,
   "metadata": {},
   "outputs": [
    {
     "name": "stdout",
     "output_type": "stream",
     "text": [
      "初始化\n"
     ]
    }
   ],
   "source": [
    "ss = hanshu()"
   ]
  },
  {
   "cell_type": "code",
   "execution_count": 58,
   "metadata": {},
   "outputs": [
    {
     "data": {
      "text/plain": [
       "3"
      ]
     },
     "execution_count": 58,
     "metadata": {},
     "output_type": "execute_result"
    }
   ],
   "source": [
    "ss.hanshu1(3)"
   ]
  },
  {
   "cell_type": "code",
   "execution_count": 59,
   "metadata": {},
   "outputs": [
    {
     "data": {
      "text/plain": [
       "9"
      ]
     },
     "execution_count": 59,
     "metadata": {},
     "output_type": "execute_result"
    }
   ],
   "source": [
    "ss.hanshu2(3)"
   ]
  },
  {
   "cell_type": "code",
   "execution_count": 60,
   "metadata": {},
   "outputs": [
    {
     "name": "stdout",
     "output_type": "stream",
     "text": [
      "6\n"
     ]
    }
   ],
   "source": [
    "ss.hanshu3(3)"
   ]
  },
  {
   "cell_type": "code",
   "execution_count": 22,
   "metadata": {},
   "outputs": [],
   "source": [
    "import random"
   ]
  },
  {
   "cell_type": "code",
   "execution_count": 34,
   "metadata": {},
   "outputs": [],
   "source": [
    "class suiji:\n",
    "    def __init__(self):\n",
    "        print('hhh')\n",
    "        self.num1 = random.randint(1,10)\n",
    "        self.num2 = random.randint(1,10)\n",
    "        self.num3 = random.randint(1,10)\n",
    "        print(self.num1,self.num2,self.num3)\n",
    "    def zuida(self):\n",
    "            return max(self.num1,self.num2,self.num3)\n",
    "    def zuixiao(self):\n",
    "            return min(self.num1,self.num2,self.num3)\n",
    "            "
   ]
  },
  {
   "cell_type": "code",
   "execution_count": 35,
   "metadata": {},
   "outputs": [
    {
     "name": "stdout",
     "output_type": "stream",
     "text": [
      "hhh\n",
      "7 8 3\n"
     ]
    }
   ],
   "source": [
    "h = suiji()"
   ]
  },
  {
   "cell_type": "code",
   "execution_count": 36,
   "metadata": {},
   "outputs": [
    {
     "data": {
      "text/plain": [
       "8"
      ]
     },
     "execution_count": 36,
     "metadata": {},
     "output_type": "execute_result"
    }
   ],
   "source": [
    "h.zuida()"
   ]
  },
  {
   "cell_type": "code",
   "execution_count": 37,
   "metadata": {},
   "outputs": [
    {
     "data": {
      "text/plain": [
       "3"
      ]
     },
     "execution_count": 37,
     "metadata": {},
     "output_type": "execute_result"
    }
   ],
   "source": [
    "h.zuixiao()"
   ]
  },
  {
   "cell_type": "markdown",
   "metadata": {},
   "source": [
    "## 类的继承\n",
    "- 类的单继承\n",
    "- 类的多继承\n",
    "- 继承标识\n",
    ">  class SonClass(FatherClass):\n",
    "            \n",
    "            def __init__(self):\n",
    "            \n",
    "                FatherClass.__init__(self)"
   ]
  },
  {
   "cell_type": "code",
   "execution_count": 64,
   "metadata": {},
   "outputs": [],
   "source": [
    "class C:\n",
    "    def __init__(self):\n",
    "        self.__c = 'c'       # 私有变量不可继承    '__' 定义私有变量\n",
    "    def __c_(self):\n",
    "        print('class C')\n",
    "class A:\n",
    "    def __init__(self):\n",
    "        self.a = 'a'\n",
    "    def a_(self):\n",
    "        print('class A')\n",
    "\n",
    "class B:\n",
    "    def __init__(self):\n",
    "        #告诉A,    B即将继承A\n",
    "        A.__init__(self)\n",
    "        #   print(self.a)\n",
    "        #.  self.a_()\n",
    "    def b_(self):\n",
    "        print(self,a)\n",
    "        self.a_()"
   ]
  },
  {
   "cell_type": "code",
   "execution_count": 66,
   "metadata": {},
   "outputs": [],
   "source": [
    "ss = B"
   ]
  },
  {
   "cell_type": "code",
   "execution_count": null,
   "metadata": {},
   "outputs": [],
   "source": []
  },
  {
   "cell_type": "markdown",
   "metadata": {},
   "source": [
    "## 私有数据域(私有变量，或者私有函数)\n",
    "- 在Python中 变量名或者函数名使用双下划线代表私有  \\__Joker,   def \\__Joker():\n",
    "- 私有数据域不可继承\n",
    "- 私有数据域强制继承   \\__dir__()"
   ]
  },
  {
   "cell_type": "markdown",
   "metadata": {},
   "source": [
    "![](../Photo/87.png)"
   ]
  },
  {
   "cell_type": "markdown",
   "metadata": {},
   "source": [
    "## EP:\n",
    "![](../Photo/88.png)\n",
    "![](../Photo/89.png)\n",
    "![](../Photo/90.png)\n"
   ]
  },
  {
   "cell_type": "code",
   "execution_count": null,
   "metadata": {},
   "outputs": [],
   "source": []
  },
  {
   "cell_type": "markdown",
   "metadata": {},
   "source": [
    "## 类的其他\n",
    "- 类的封装\n",
    "    - 实际上就是将一类功能放在一起，方便未来进行管理\n",
    "- 类的继承（上面已经讲过）\n",
    "- 类的多态\n",
    "    - 包括装饰器：将放在以后处理高级类中教\n",
    "    - 装饰器的好处：当许多类中的函数需要使用同一个功能的时候，那么使用装饰器就会方便许多\n",
    "    - 装饰器是有固定的写法\n",
    "        - 其包括普通装饰器与带参装饰器"
   ]
  },
  {
   "cell_type": "markdown",
   "metadata": {},
   "source": [
    "# Homewor\n",
    "## UML类图可以不用画\n",
    "## UML 实际上就是一个思维图\n",
    "- 1\n",
    "![](../Photo/91.png)"
   ]
  },
  {
   "cell_type": "code",
   "execution_count": 83,
   "metadata": {},
   "outputs": [],
   "source": [
    "class Rectangle:\n",
    "    def __init__(self):\n",
    "        print('初始化')\n",
    "        self.width = 1\n",
    "        self.height = 2\n",
    "    def getArea(self):\n",
    "        area = self.width * self.height\n",
    "        return area\n",
    "    def getPerimeter(self):\n",
    "        zhou = (self.width + self.height) * 2\n",
    "        return zhou"
   ]
  },
  {
   "cell_type": "code",
   "execution_count": 84,
   "metadata": {},
   "outputs": [
    {
     "name": "stdout",
     "output_type": "stream",
     "text": [
      "初始化\n"
     ]
    }
   ],
   "source": [
    "sss = Rectangle()"
   ]
  },
  {
   "cell_type": "code",
   "execution_count": 85,
   "metadata": {},
   "outputs": [
    {
     "data": {
      "text/plain": [
       "2"
      ]
     },
     "execution_count": 85,
     "metadata": {},
     "output_type": "execute_result"
    }
   ],
   "source": [
    "sss.getArea()"
   ]
  },
  {
   "cell_type": "code",
   "execution_count": 86,
   "metadata": {},
   "outputs": [
    {
     "data": {
      "text/plain": [
       "6"
      ]
     },
     "execution_count": 86,
     "metadata": {},
     "output_type": "execute_result"
    }
   ],
   "source": [
    "sss.getPerimeter()"
   ]
  },
  {
   "cell_type": "markdown",
   "metadata": {},
   "source": [
    "- 2\n",
    "![](../Photo/92.png)"
   ]
  },
  {
   "cell_type": "code",
   "execution_count": null,
   "metadata": {},
   "outputs": [],
   "source": [
    "class money:\n",
    "    def __init__(self):\n",
    "        print('初始化')\n",
    "        self.id = 0"
   ]
  },
  {
   "cell_type": "code",
   "execution_count": 104,
   "metadata": {},
   "outputs": [
    {
     "name": "stdout",
     "output_type": "stream",
     "text": [
      "请输入id，存钱数，储存利率\n"
     ]
    }
   ],
   "source": [
    "class Account():\n",
    "    print('请输入id，存钱数，储存利率')\n",
    "    def __init__ (self,id_ ,balance = 100,rate = 0):\n",
    "        self.__id_ = id_\n",
    "        self.balance = balance\n",
    "        self.rate= float(rate)#是一个百分数\n",
    "        print('账户ID',self.__id_)\n",
    "        print('余额',self.balance)\n",
    "        print('当前利率',self.rate)\n",
    "        print(self.yuelilv())\n",
    "        print(self.yuelixi())\n",
    "        print(self.withdraw())\n",
    "        print(self.deposit())\n",
    "    def yuelilv(self):\n",
    "        self.res1 = (self.rate/100)/12\n",
    "        print('月利率',self.res1)\n",
    "    def yuelixi(self):\n",
    "        res2 = self.balance * self.res1\n",
    "        print('月利息',res2)\n",
    "    def withdraw(self):\n",
    "        self.a = eval(input('请输入取钱金额：'))\n",
    "        self.res3 = self.balance - self.a      \n",
    "        print('取钱',self.a,'余额',self.res3)\n",
    "    def deposit(self):\n",
    "        self.b = eval(input('请输入存钱金额：'))\n",
    "        res4 = self.balance + self.b\n",
    "        print('存钱',self.b,'余额',res4)"
   ]
  },
  {
   "cell_type": "code",
   "execution_count": 105,
   "metadata": {},
   "outputs": [
    {
     "name": "stdout",
     "output_type": "stream",
     "text": [
      "账户ID xiaoming\n",
      "余额 2000\n",
      "当前利率 4.5\n",
      "月利率 0.00375\n",
      "None\n",
      "月利息 7.5\n",
      "None\n",
      "请输入取钱金额：1000\n",
      "取钱 1000 余额 1000\n",
      "None\n",
      "请输入存钱金额：1000\n",
      "存钱 1000 余额 3000\n",
      "None\n"
     ]
    }
   ],
   "source": [
    "a = Account('xiaoming',2000,4.5)"
   ]
  },
  {
   "cell_type": "markdown",
   "metadata": {},
   "source": [
    "- 3\n",
    "![](../Photo/93.png)"
   ]
  },
  {
   "cell_type": "code",
   "execution_count": null,
   "metadata": {},
   "outputs": [],
   "source": [
    "class Fan:\n",
    "    def __init__(self):\n",
    "        print('初始化')\n",
    "        self.slow  = 1 \n",
    "        self.medium  = 2\n",
    "        self.fast  = 3"
   ]
  },
  {
   "cell_type": "markdown",
   "metadata": {},
   "source": [
    "- 4\n",
    "![](../Photo/94.png)\n",
    "![](../Photo/95.png)"
   ]
  },
  {
   "cell_type": "code",
   "execution_count": 88,
   "metadata": {},
   "outputs": [],
   "source": [
    "import math"
   ]
  },
  {
   "cell_type": "code",
   "execution_count": 99,
   "metadata": {},
   "outputs": [],
   "source": [
    "class RegularPolygon:\n",
    "    def __init__(self):\n",
    "        print('初始化')\n",
    "        self.n = 3\n",
    "        self.side = 1\n",
    "        self.x = 0\n",
    "        self.y = 0        \n",
    "    def getPerimeter(self):\n",
    "        a = self.side * self.n\n",
    "        return a\n",
    "    def getArea(self):\n",
    "        b = self.n * self.side * self.side\n",
    "        c = 4 * math.tan(math.pi/self.n)\n",
    "        d = b / c\n",
    "        return d"
   ]
  },
  {
   "cell_type": "code",
   "execution_count": 100,
   "metadata": {},
   "outputs": [
    {
     "name": "stdout",
     "output_type": "stream",
     "text": [
      "初始化\n"
     ]
    }
   ],
   "source": [
    "hhh = RegularPolygon()"
   ]
  },
  {
   "cell_type": "code",
   "execution_count": 102,
   "metadata": {},
   "outputs": [
    {
     "data": {
      "text/plain": [
       "3"
      ]
     },
     "execution_count": 102,
     "metadata": {},
     "output_type": "execute_result"
    }
   ],
   "source": [
    "hhh.getPerimeter()"
   ]
  },
  {
   "cell_type": "code",
   "execution_count": 103,
   "metadata": {},
   "outputs": [
    {
     "data": {
      "text/plain": [
       "0.43301270189221946"
      ]
     },
     "execution_count": 103,
     "metadata": {},
     "output_type": "execute_result"
    }
   ],
   "source": [
    "hhh.getArea()"
   ]
  },
  {
   "cell_type": "markdown",
   "metadata": {},
   "source": [
    "- 5\n",
    "![](../Photo/96.png)"
   ]
  },
  {
   "cell_type": "markdown",
   "metadata": {},
   "source": [
    "- 6\n",
    "![](../Photo/97.png)"
   ]
  },
  {
   "cell_type": "code",
   "execution_count": null,
   "metadata": {},
   "outputs": [],
   "source": []
  },
  {
   "cell_type": "markdown",
   "metadata": {},
   "source": [
    "- 7\n",
    "![](../Photo/98.png)"
   ]
  },
  {
   "cell_type": "code",
   "execution_count": null,
   "metadata": {},
   "outputs": [],
   "source": [
    "#附加QQ\n",
    "class QQ:\n",
    "    def __init__(self,zhanghao,mima):\n",
    "        print('初始化')\n",
    "        self.zhanghao = zhanghao\n",
    "        self.mima = mima\n",
    "    def zhanghao(self,x):\n",
    "        x = eval(input('输入账号'))\n",
    "    def mima(self,y):\n",
    "        y = eval(input('输入密码'))\n",
    "    def bijiao(self,z)\n",
    "        if z == self.zhanghao and z == self.mima:\n",
    "            print('输入正确')\n",
    "        else:\n",
    "            \n",
    "    "
   ]
  },
  {
   "cell_type": "code",
   "execution_count": null,
   "metadata": {},
   "outputs": [],
   "source": [
    "class QQ:\n",
    "    def __init__(self):\n",
    "        self.account = 123\n",
    "        self.password = 123\n",
    "    def Account(self):\n",
    "        '''\n",
    "        '''\n",
    "        self.acc = eval(input('请输入账号:'))\n",
    "    def Password(self):\n",
    "        self.password = eval(input('请输入密码'))\n",
    "    def check(self):\n",
    "        if self.acc == self.account and self.password == self.password:\n",
    "            print('Success')\n",
    "        else:\n",
    "            self.Verify()\n",
    "    def Verify(self):\n",
    "        Verify_"
   ]
  },
  {
   "cell_type": "code",
   "execution_count": 87,
   "metadata": {},
   "outputs": [],
   "source": [
    "class Joker2:\n",
    "    \"\"\"\n",
    "    Implement Login Class.\n",
    "    \"\"\"\n",
    "    def __init__(self):\n",
    "        \"\"\"\n",
    "        Initialization class\n",
    "        Arguments:\n",
    "        ---------\n",
    "            name: xxx\n",
    "            None.\n",
    "        Returns:\n",
    "        --------\n",
    "            None.\n",
    "        \"\"\"\n",
    "        self.account = '123'\n",
    "        self.password = '123'\n",
    "    def Account(self):\n",
    "        \"\"\"\n",
    "        Input Account value\n",
    "        Arguments:\n",
    "        ---------\n",
    "            None.\n",
    "        Returns:\n",
    "        --------\n",
    "            None.\n",
    "        \"\"\"\n",
    "        self.acc = input('请输入账号:>>')\n",
    "    def Password(self):\n",
    "        \"\"\"\n",
    "        Input Password value\n",
    "        Arguments:\n",
    "        ---------\n",
    "            None.\n",
    "        Returns:\n",
    "        --------\n",
    "            None.\n",
    "        \"\"\"\n",
    "        self.passwor = input('请输入密码:>>')\n",
    "    def Check(self):\n",
    "        \"\"\"\n",
    "        Check account and password\n",
    "        Note:\n",
    "        ----\n",
    "            we need \"and\" connect.\n",
    "            if account and password is right, then login OK.\n",
    "            else: running Veriy func.\n",
    "        \"\"\"\n",
    "        if self.acc == self.account and self.passwor == self.password:\n",
    "            print('Success')\n",
    "        else:\n",
    "            # running Verify !\n",
    "            self.Verify()\n",
    "    def Verify(self):\n",
    "        \"\"\"\n",
    "        Verify ....\n",
    "        \"\"\"\n",
    "        Verify_Var = 123\n",
    "        print('验证码是:',Verify_Var)\n",
    "        while 1:\n",
    "            User_Verify = eval(input('请输入验证码:>>'))\n",
    "            if User_Verify == Verify_Var:\n",
    "                print('Failed')\n",
    "                break\n",
    "    def Start(self):\n",
    "        \"\"\"\n",
    "        Start definelogistics.\n",
    "        \"\"\"\n",
    "        self.Account()\n",
    "        self.Password()\n",
    "        self.Check()"
   ]
  },
  {
   "cell_type": "code",
   "execution_count": null,
   "metadata": {},
   "outputs": [],
   "source": [
    "ss"
   ]
  }
 ],
 "metadata": {
  "kernelspec": {
   "display_name": "Python 3",
   "language": "python",
   "name": "python3"
  },
  "language_info": {
   "codemirror_mode": {
    "name": "ipython",
    "version": 3
   },
   "file_extension": ".py",
   "mimetype": "text/x-python",
   "name": "python",
   "nbconvert_exporter": "python",
   "pygments_lexer": "ipython3",
   "version": "3.7.3"
  }
 },
 "nbformat": 4,
 "nbformat_minor": 2
}
