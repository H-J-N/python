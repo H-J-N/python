{
 "cells": [
  {
   "cell_type": "markdown",
   "metadata": {},
   "source": [
    "# 选择\n",
    "## 布尔类型、数值和表达式\n",
    "![](../Photo/33.png)\n",
    "- 注意：比较运算符的相等是两个等号，一个等到代表赋值\n",
    "- 在Python中可以用整型0来代表False，其他数字来代表True\n",
    "- 后面还会讲到 is 在判断语句中的用发"
   ]
  },
  {
   "cell_type": "code",
   "execution_count": 1,
   "metadata": {},
   "outputs": [
    {
     "data": {
      "text/plain": [
       "False"
      ]
     },
     "execution_count": 1,
     "metadata": {},
     "output_type": "execute_result"
    }
   ],
   "source": [
    "a='1'\n",
    "b='2'\n",
    "a==b"
   ]
  },
  {
   "cell_type": "code",
   "execution_count": 2,
   "metadata": {},
   "outputs": [
    {
     "data": {
      "text/plain": [
       "False"
      ]
     },
     "execution_count": 2,
     "metadata": {},
     "output_type": "execute_result"
    }
   ],
   "source": [
    "0 is 1"
   ]
  },
  {
   "cell_type": "markdown",
   "metadata": {},
   "source": [
    "## 字符串的比较使用ASCII值"
   ]
  },
  {
   "cell_type": "markdown",
   "metadata": {},
   "source": [
    "## Markdown \n",
    "- https://github.com/younghz/Markdown"
   ]
  },
  {
   "cell_type": "markdown",
   "metadata": {},
   "source": [
    "## EP:\n",
    "- <img src=\"../Photo/34.png\"></img>\n",
    "- 输入一个数字，判断其实奇数还是偶数"
   ]
  },
  {
   "cell_type": "code",
   "execution_count": 7,
   "metadata": {},
   "outputs": [
    {
     "data": {
      "text/plain": [
       "1"
      ]
     },
     "execution_count": 7,
     "metadata": {},
     "output_type": "execute_result"
    }
   ],
   "source": [
    "int(True)"
   ]
  },
  {
   "cell_type": "code",
   "execution_count": null,
   "metadata": {},
   "outputs": [],
   "source": [
    "if condition:\n",
    "    pass\n",
    "else:\n",
    "    pass"
   ]
  },
  {
   "cell_type": "code",
   "execution_count": 9,
   "metadata": {},
   "outputs": [
    {
     "name": "stdout",
     "output_type": "stream",
     "text": [
      "输入一个数字4\n",
      "偶数\n"
     ]
    }
   ],
   "source": [
    "x=eval(input('输入一个数字'))\n",
    "d=x%2\n",
    "if d==1:\n",
    "    print('奇数')\n",
    "if d==0:\n",
    "    print('偶数')\n",
    "    "
   ]
  },
  {
   "cell_type": "markdown",
   "metadata": {},
   "source": [
    "## 产生随机数字\n",
    "- 函数random.randint(a,b) 可以用来产生一个a和b之间且包括a和b的随机整数"
   ]
  },
  {
   "cell_type": "markdown",
   "metadata": {},
   "source": [
    "产生一个随机数，你去输入，如果你输入的数大于随机数，那么就告诉你太大了，反之，太小了，\n",
    "然后你一直输入，知道它满意为止"
   ]
  },
  {
   "cell_type": "code",
   "execution_count": 12,
   "metadata": {},
   "outputs": [],
   "source": [
    "import random"
   ]
  },
  {
   "cell_type": "code",
   "execution_count": 24,
   "metadata": {},
   "outputs": [],
   "source": [
    "a=random.randint(0,10)"
   ]
  },
  {
   "cell_type": "code",
   "execution_count": 2,
   "metadata": {},
   "outputs": [],
   "source": [
    "import os"
   ]
  },
  {
   "cell_type": "code",
   "execution_count": 27,
   "metadata": {},
   "outputs": [
    {
     "name": "stdout",
     "output_type": "stream",
     "text": [
      "输入一个数字3\n",
      "恭喜你 你是个天才！\n"
     ]
    }
   ],
   "source": [
    "x=eval(input('输入一个数字'))\n",
    "if x>a:\n",
    "    print('太大了！！！')\n",
    "    os.system('say too bigger')\n",
    "if x<a:\n",
    "    print('太小了！！！') \n",
    "    os.system('say too small')\n",
    "if x==a:\n",
    "    print('恭喜你 你是个天才！')\n",
    "    os.system('say Beautiful you are good')"
   ]
  },
  {
   "cell_type": "markdown",
   "metadata": {},
   "source": [
    "##  其他random方法\n",
    "- random.random 返回0.0到1.0之间前闭后开区间的随机浮点\n",
    "- random.randrange(a,b) 前闭后开"
   ]
  },
  {
   "cell_type": "markdown",
   "metadata": {},
   "source": [
    "## EP：\n",
    "- 产生两个随机整数number1和number2，然后显示给用户，使用户输入数字的和，并判定其是否正确\n",
    "- 进阶:写一个随机序号点名程序"
   ]
  },
  {
   "cell_type": "code",
   "execution_count": 28,
   "metadata": {},
   "outputs": [
    {
     "data": {
      "text/plain": [
       "0.14759152107588225"
      ]
     },
     "execution_count": 28,
     "metadata": {},
     "output_type": "execute_result"
    }
   ],
   "source": [
    "random.random()"
   ]
  },
  {
   "cell_type": "code",
   "execution_count": 29,
   "metadata": {},
   "outputs": [
    {
     "data": {
      "text/plain": [
       "18"
      ]
     },
     "execution_count": 29,
     "metadata": {},
     "output_type": "execute_result"
    }
   ],
   "source": [
    "random.randrange(1,20)#前闭后开"
   ]
  },
  {
   "cell_type": "code",
   "execution_count": 4,
   "metadata": {},
   "outputs": [
    {
     "name": "stdout",
     "output_type": "stream",
     "text": [
      "0\n",
      "4\n"
     ]
    }
   ],
   "source": [
    "a=random.randint(0,10)\n",
    "b=random.randint(0,10)\n",
    "print(a)\n",
    "print(b)"
   ]
  },
  {
   "cell_type": "code",
   "execution_count": 5,
   "metadata": {},
   "outputs": [
    {
     "name": "stdout",
     "output_type": "stream",
     "text": [
      "输入a+b的和3\n",
      "答错了\n",
      "输入a+b的和4\n",
      "答对了\n"
     ]
    }
   ],
   "source": [
    "for i in range(5):\n",
    "    x=eval(input('输入a+b的和'))\n",
    "    if x==(a+b):\n",
    "        print('答对了')\n",
    "        break\n",
    "    if x!=(a+b):\n",
    "        print('答错了')"
   ]
  },
  {
   "cell_type": "code",
   "execution_count": 3,
   "metadata": {},
   "outputs": [],
   "source": [
    "import turtle as t\n",
    " \n",
    "t.pensize(4)\n",
    "t.hideturtle()\n",
    "t.colormode(255)\n",
    "t.color((255,155,192),\"pink\")\n",
    "t.setup(840,500)\n",
    "t.speed(10)\n",
    " \n",
    "#鼻子\n",
    "t.pu()\n",
    "t.goto(-100,100)\n",
    "t.pd()\n",
    "t.seth(-30)\n",
    "t.begin_fill()\n",
    "a=0.4\n",
    "for i in range(120):\n",
    "    if 0<=i<30 or 60<=i<90:\n",
    "        a=a+0.08\n",
    "        t.lt(3) #向左转3度\n",
    "        t.fd(a) #向前走a的步长\n",
    "    else:\n",
    "        a=a-0.08\n",
    "        t.lt(3)\n",
    "        t.fd(a)\n",
    "t.end_fill()\n",
    " \n",
    "t.pu()\n",
    "t.seth(90)\n",
    "t.fd(25)\n",
    "t.seth(0)\n",
    "t.fd(10)\n",
    "t.pd()\n",
    "t.pencolor(255,155,192)\n",
    "t.seth(10)\n",
    "t.begin_fill()\n",
    "t.circle(5)\n",
    "t.color(160,82,45)\n",
    "t.end_fill()\n",
    " \n",
    "t.pu()\n",
    "t.seth(0)\n",
    "t.fd(20)\n",
    "t.pd()\n",
    "t.pencolor(255,155,192)\n",
    "t.seth(10)\n",
    "t.begin_fill()\n",
    "t.circle(5)\n",
    "t.color(160,82,45)\n",
    "t.end_fill()\n",
    " \n",
    "#头\n",
    "t.color((255,155,192),\"pink\")\n",
    "t.pu()\n",
    "t.seth(90)\n",
    "t.fd(41)\n",
    "t.seth(0)\n",
    "t.fd(0)\n",
    "t.pd()\n",
    "t.begin_fill()\n",
    "t.seth(180)\n",
    "t.circle(300,-30)\n",
    "t.circle(100,-60)\n",
    "t.circle(80,-100)\n",
    "t.circle(150,-20)\n",
    "t.circle(60,-95)\n",
    "t.seth(161)\n",
    "t.circle(-300,15)\n",
    "t.pu()\n",
    "t.goto(-100,100)\n",
    "t.pd()\n",
    "t.seth(-30)\n",
    "a=0.4\n",
    "for i in range(60):\n",
    "    if 0<=i<30 or 60<=i<90:\n",
    "        a=a+0.08\n",
    "        t.lt(3) #向左转3度\n",
    "        t.fd(a) #向前走a的步长\n",
    "    else:\n",
    "        a=a-0.08\n",
    "        t.lt(3)\n",
    "        t.fd(a)\n",
    "t.end_fill()\n",
    " \n",
    "#耳朵\n",
    "t.color((255,155,192),\"pink\")\n",
    "t.pu()\n",
    "t.seth(90)\n",
    "t.fd(-7)\n",
    "t.seth(0)\n",
    "t.fd(70)\n",
    "t.pd()\n",
    "t.begin_fill()\n",
    "t.seth(100)\n",
    "t.circle(-50,50)\n",
    "t.circle(-10,120)\n",
    "t.circle(-50,54)\n",
    "t.end_fill()\n",
    " \n",
    "t.pu()\n",
    "t.seth(90)\n",
    "t.fd(-12)\n",
    "t.seth(0)\n",
    "t.fd(30)\n",
    "t.pd()\n",
    "t.begin_fill()\n",
    "t.seth(100)\n",
    "t.circle(-50,50)\n",
    "t.circle(-10,120)\n",
    "t.circle(-50,56)\n",
    "t.end_fill()\n",
    " \n",
    "#眼睛\n",
    "t.color((255,155,192),\"white\")\n",
    "t.pu()\n",
    "t.seth(90)\n",
    "t.fd(-20)\n",
    "t.seth(0)\n",
    "t.fd(-95)\n",
    "t.pd()\n",
    "t.begin_fill()\n",
    "t.circle(15)\n",
    "t.end_fill()\n",
    " \n",
    "t.color(\"black\")\n",
    "t.pu()\n",
    "t.seth(90)\n",
    "t.fd(12)\n",
    "t.seth(0)\n",
    "t.fd(-3)\n",
    "t.pd()\n",
    "t.begin_fill()\n",
    "t.circle(3)\n",
    "t.end_fill()\n",
    " \n",
    "t.color((255,155,192),\"white\")\n",
    "t.pu()\n",
    "t.seth(90)\n",
    "t.fd(-25)\n",
    "t.seth(0)\n",
    "t.fd(40)\n",
    "t.pd()\n",
    "t.begin_fill()\n",
    "t.circle(15)\n",
    "t.end_fill()\n",
    " \n",
    "t.color(\"black\")\n",
    "t.pu()\n",
    "t.seth(90)\n",
    "t.fd(12)\n",
    "t.seth(0)\n",
    "t.fd(-3)\n",
    "t.pd()\n",
    "t.begin_fill()\n",
    "t.circle(3)\n",
    "t.end_fill()\n",
    " \n",
    "#腮\n",
    "t.color((255,155,192))\n",
    "t.pu()\n",
    "t.seth(90)\n",
    "t.fd(-95)\n",
    "t.seth(0)\n",
    "t.fd(65)\n",
    "t.pd()\n",
    "t.begin_fill()\n",
    "t.circle(30)\n",
    "t.end_fill()\n",
    " \n",
    "#嘴\n",
    "t.color(239,69,19)\n",
    "t.pu()\n",
    "t.seth(90)\n",
    "t.fd(15)\n",
    "t.seth(0)\n",
    "t.fd(-100)\n",
    "t.pd()\n",
    "t.seth(-80)\n",
    "t.circle(30,40)\n",
    "t.circle(40,80)\n",
    " \n",
    "#身体\n",
    "t.color(\"red\",(255,99,71))\n",
    "t.pu()\n",
    "t.seth(90)\n",
    "t.fd(-20)\n",
    "t.seth(0)\n",
    "t.fd(-78)\n",
    "t.pd()\n",
    "t.begin_fill()\n",
    "t.seth(-130)\n",
    "t.circle(100,10)\n",
    "t.circle(300,30)\n",
    "t.seth(0)\n",
    "t.fd(230)\n",
    "t.seth(90)\n",
    "t.circle(300,30)\n",
    "t.circle(100,3)\n",
    "t.color((255,155,192),(255,100,100))\n",
    "t.seth(-135)\n",
    "t.circle(-80,63)\n",
    "t.circle(-150,24)\n",
    "t.end_fill()\n",
    " \n",
    "#手\n",
    "t.color((255,155,192))\n",
    "t.pu()\n",
    "t.seth(90)\n",
    "t.fd(-40)\n",
    "t.seth(0)\n",
    "t.fd(-27)\n",
    "t.pd()\n",
    "t.seth(-160)\n",
    "t.circle(300,15)\n",
    "t.pu()\n",
    "t.seth(90)\n",
    "t.fd(15)\n",
    "t.seth(0)\n",
    "t.fd(0)\n",
    "t.pd()\n",
    "t.seth(-10)\n",
    "t.circle(-20,90)\n",
    " \n",
    "t.pu()\n",
    "t.seth(90)\n",
    "t.fd(30)\n",
    "t.seth(0)\n",
    "t.fd(237)\n",
    "t.pd()\n",
    "t.seth(-20)\n",
    "t.circle(-300,15)\n",
    "t.pu()\n",
    "t.seth(90)\n",
    "t.fd(20)\n",
    "t.seth(0)\n",
    "t.fd(0)\n",
    "t.pd()\n",
    "t.seth(-170)\n",
    "t.circle(20,90)\n",
    " \n",
    "#脚\n",
    "t.pensize(10)\n",
    "t.color((240,128,128))\n",
    "t.pu()\n",
    "t.seth(90)\n",
    "t.fd(-75)\n",
    "t.seth(0)\n",
    "t.fd(-180)\n",
    "t.pd()\n",
    "t.seth(-90)\n",
    "t.fd(40)\n",
    "t.seth(-180)\n",
    "t.color(\"black\")\n",
    "t.pensize(15)\n",
    "t.fd(20)\n",
    " \n",
    "t.pensize(10)\n",
    "t.color((240,128,128))\n",
    "t.pu()\n",
    "t.seth(90)\n",
    "t.fd(40)\n",
    "t.seth(0)\n",
    "t.fd(90)\n",
    "t.pd()\n",
    "t.seth(-90)\n",
    "t.fd(40)\n",
    "t.seth(-180)\n",
    "t.color(\"black\")\n",
    "t.pensize(15)\n",
    "t.fd(20)\n",
    " \n",
    "#尾巴\n",
    "t.pensize(4)\n",
    "t.color((255,155,192))\n",
    "t.pu()\n",
    "t.seth(90)\n",
    "t.fd(70)\n",
    "t.seth(0)\n",
    "t.fd(95)\n",
    "t.pd()\n",
    "t.seth(0)\n",
    "t.circle(70,20)\n",
    "t.circle(10,330)\n",
    "t.circle(70,30)"
   ]
  },
  {
   "cell_type": "code",
   "execution_count": 8,
   "metadata": {},
   "outputs": [
    {
     "name": "stdout",
     "output_type": "stream",
     "text": [
      "输入一个数字66\n",
      "2 可以整除\n",
      "3 可以整除\n",
      "6 可以整除\n",
      "11 可以整除\n",
      "22 可以整除\n",
      "33 可以整除\n"
     ]
    }
   ],
   "source": [
    "x=eval(input('输入一个数字'))\n",
    "\n",
    "for i in range(2,x):\n",
    "    if x%i == 0:\n",
    "        print(i,'可以整除')"
   ]
  },
  {
   "cell_type": "markdown",
   "metadata": {},
   "source": [
    "## if语句\n",
    "- 如果条件正确就执行一个单向if语句，亦即当条件为真的时候才执行if内部的语句\n",
    "- Python有很多选择语句:\n",
    "> - 单向if \n",
    "  - 双向if-else\n",
    "  - 嵌套if\n",
    "  - 多向if-elif-else\n",
    "  \n",
    "- 注意：当语句含有子语句的时候，那么一定至少要有一个缩进，也就是说如果有儿子存在，那么一定要缩进\n",
    "- 切记不可tab键和space混用，单用tab 或者 space\n",
    "- 当你输出的结果是无论if是否为真时都需要显示时，语句应该与if对齐"
   ]
  },
  {
   "cell_type": "code",
   "execution_count": null,
   "metadata": {},
   "outputs": [],
   "source": []
  },
  {
   "cell_type": "markdown",
   "metadata": {},
   "source": [
    "## EP：\n",
    "- 用户输入一个数字，判断其实奇数还是偶数\n",
    "- 进阶：可以查看下4.5实例研究猜生日"
   ]
  },
  {
   "cell_type": "markdown",
   "metadata": {},
   "source": [
    "## 双向if-else 语句\n",
    "- 如果条件为真，那么走if内部语句，否则走else内部语句"
   ]
  },
  {
   "cell_type": "code",
   "execution_count": 17,
   "metadata": {},
   "outputs": [
    {
     "name": "stdout",
     "output_type": "stream",
     "text": [
      "有钱吗yes\n",
      "下一题\n",
      "帅吗no\n",
      "滚\n"
     ]
    }
   ],
   "source": [
    "x=input('有钱吗')\n",
    "if x=='yes':\n",
    "    print('下一题')\n",
    "    y=input('帅吗')\n",
    "    if y=='yes':\n",
    "        print('下一题')\n",
    "        z=input('你有老婆吗')\n",
    "        if z=='no':\n",
    "            print('Good!')\n",
    "        else:\n",
    "            print('滚')\n",
    "    else:\n",
    "        print('滚')\n",
    "else:\n",
    "    print('滚')    "
   ]
  },
  {
   "cell_type": "code",
   "execution_count": 13,
   "metadata": {},
   "outputs": [
    {
     "data": {
      "text/plain": [
       "False"
      ]
     },
     "execution_count": 13,
     "metadata": {},
     "output_type": "execute_result"
    }
   ],
   "source": [
    "x=input('帅吗')\n",
    "if x=='yes':\n",
    "    print()"
   ]
  },
  {
   "cell_type": "markdown",
   "metadata": {},
   "source": [
    "## EP：\n",
    "- 产生两个随机整数number1和number2，然后显示给用户，使用户输入数字，并判定其是否正确,如果正确打印“you‘re correct”，否则打印正确错误"
   ]
  },
  {
   "cell_type": "markdown",
   "metadata": {},
   "source": [
    "## 嵌套if 和多向if-elif-else\n",
    "![](../Photo/35.png)"
   ]
  },
  {
   "cell_type": "code",
   "execution_count": 21,
   "metadata": {},
   "outputs": [
    {
     "name": "stdout",
     "output_type": "stream",
     "text": [
      "有钱吗yes\n",
      "帅吗yes\n",
      "有老婆吗no\n",
      "结婚\n"
     ]
    }
   ],
   "source": [
    "x=input('有钱吗')\n",
    "if x=='yes':\n",
    "    y=input('帅吗')\n",
    "    if y=='yes':\n",
    "        z=input('有老婆吗')\n",
    "        if z=='no':\n",
    "            print('结婚')\n",
    "        elif z=='yes':\n",
    "            print('滚')\n",
    "    elif y=='no':\n",
    "        print('滚')\n",
    "elif x=='no':\n",
    "    print('滚')"
   ]
  },
  {
   "cell_type": "markdown",
   "metadata": {},
   "source": [
    "## EP：\n",
    "- 提示用户输入一个年份，然后显示表示这一年的动物\n",
    "![](../Photo/36.png)\n",
    "- 计算身体质量指数的程序\n",
    "- BMI = 以千克为单位的体重除以以米为单位的身高的平方\n",
    "![](../Photo/37.png)"
   ]
  },
  {
   "cell_type": "code",
   "execution_count": 30,
   "metadata": {},
   "outputs": [
    {
     "name": "stdout",
     "output_type": "stream",
     "text": [
      "输入年份1970\n",
      "🐶狗年\n"
     ]
    }
   ],
   "source": [
    "year=eval(input('输入年份'))\n",
    "if year%12==0:\n",
    "    print('🐒猴年')\n",
    "elif year%12==1:\n",
    "    print('🐔鸡年')\n",
    "elif year%12==2:\n",
    "    print('🐶狗年')\n",
    "elif year%12==3:\n",
    "    print('🐷猪年')\n",
    "elif year%12==4:\n",
    "    print('🐭鼠年')\n",
    "elif year%12==5:\n",
    "    print('🐂牛年')\n",
    "elif year%12==6:\n",
    "    print('🐯虎年')\n",
    "elif year%12==7:\n",
    "    print('🐰兔年')\n",
    "elif year%12==8:\n",
    "    print('🐲龙年')\n",
    "elif year%12==9:\n",
    "    print('🐍蛇年')\n",
    "elif year%12==10:\n",
    "    print('🐎马年')\n",
    "elif year%12==11:\n",
    "    print('🐑羊年')"
   ]
  },
  {
   "cell_type": "code",
   "execution_count": 36,
   "metadata": {},
   "outputs": [
    {
     "name": "stdout",
     "output_type": "stream",
     "text": [
      "身高1.68\n",
      "体重58\n",
      "标准\n"
     ]
    }
   ],
   "source": [
    "身高=eval(input('身高'))\n",
    "体重=eval(input('体重'))\n",
    "BMI=体重/身高**2\n",
    "if BMI <18.5:\n",
    "    print('超轻')\n",
    "elif  18.5<= BMI<=25.0:\n",
    "    print('标准')\n",
    "elif 25.0<=BMI<=30.0:\n",
    "    print('超重')\n",
    "elif BIM>=30.0:\n",
    "    print('超级胖胖 哈哈哈哈哈')"
   ]
  },
  {
   "cell_type": "markdown",
   "metadata": {},
   "source": [
    "![](../Photo/39.png)\n",
    "![](../Photo/40.png)"
   ]
  },
  {
   "cell_type": "markdown",
   "metadata": {},
   "source": [
    "## EP：\n",
    "- 判定闰年：一个年份如果能被4整除但不能被100整除，或者能被400整除，那么这个年份就是闰年\n",
    "- 提示用户输入一个年份，并返回是否是闰年\n",
    "- 提示用户输入一个数字，判断其是否为水仙花数"
   ]
  },
  {
   "cell_type": "code",
   "execution_count": 41,
   "metadata": {},
   "outputs": [
    {
     "name": "stdout",
     "output_type": "stream",
     "text": [
      "输入年份2000\n",
      "2000 是闰年\n"
     ]
    }
   ],
   "source": [
    "year=eval(input('输入年份'))\n",
    "if year%4==0 and year%100!=0 or year%400==0:\n",
    "    print(year,'是闰年')"
   ]
  },
  {
   "cell_type": "code",
   "execution_count": 43,
   "metadata": {},
   "outputs": [
    {
     "name": "stdout",
     "output_type": "stream",
     "text": [
      "数字154\n"
     ]
    }
   ],
   "source": [
    "number = eval (input('数字'))\n",
    "bai=number //100\n",
    "shi=number //10%10\n",
    "ge=number %10\n",
    "if bai**3+shi**3+ge**3==number:\n",
    "    print('水仙花')"
   ]
  },
  {
   "cell_type": "markdown",
   "metadata": {},
   "source": [
    "## 实例研究：彩票\n",
    "![](../Photo/41.png)"
   ]
  },
  {
   "cell_type": "code",
   "execution_count": 47,
   "metadata": {},
   "outputs": [
    {
     "name": "stdout",
     "output_type": "stream",
     "text": [
      "48\n"
     ]
    }
   ],
   "source": [
    "x=random.randint(10,99)\n",
    "shi=x//10\n",
    "ge=x%10\n",
    "print(x)"
   ]
  },
  {
   "cell_type": "code",
   "execution_count": 51,
   "metadata": {},
   "outputs": [
    {
     "name": "stdout",
     "output_type": "stream",
     "text": [
      "输入一个两位数41\n",
      "恭喜你！获得1，000美金\n"
     ]
    }
   ],
   "source": [
    "x1=eval(input('输入一个两位数'))\n",
    "shi1=x1//10\n",
    "ge1=x1%10\n",
    "if shi1==shi and ge1==ge:\n",
    "    print('恭喜你！获得10，000美金')\n",
    "elif shi1==ge and ge1==shi:\n",
    "    print('恭喜你！获得3，000美金')\n",
    "elif shi1==shi and ge1!=ge or shi1!=shi and ge1==ge:\n",
    "    print('恭喜你！获得1，000美金')"
   ]
  },
  {
   "cell_type": "markdown",
   "metadata": {},
   "source": [
    "# Homework\n",
    "- 1\n",
    "![](../Photo/42.png)"
   ]
  },
  {
   "cell_type": "code",
   "execution_count": 1,
   "metadata": {},
   "outputs": [],
   "source": [
    "import math"
   ]
  },
  {
   "cell_type": "code",
   "execution_count": 38,
   "metadata": {},
   "outputs": [
    {
     "name": "stdout",
     "output_type": "stream",
     "text": [
      "输入a1\n",
      "输入b2.0\n",
      "输入c1\n",
      "-1.0 -1.0\n"
     ]
    }
   ],
   "source": [
    "a=eval(input('输入a'))\n",
    "b=eval(input('输入b'))\n",
    "c=eval(input('输入c'))\n",
    "x=b**2-4*a*c\n",
    "if x>0:\n",
    "    print((-b+math.sqrt(x))/2*a,(-b-math.sqrt(x))/2*a)\n",
    "elif x==0:\n",
    "    print((-b+math.sqrt(x))/2*a,(-b-math.sqrt(x))/2*a)\n",
    "elif x<0:\n",
    "    print('The equation has no real roots')"
   ]
  },
  {
   "cell_type": "markdown",
   "metadata": {},
   "source": [
    "- 2\n",
    "![](../Photo/43.png)"
   ]
  },
  {
   "cell_type": "code",
   "execution_count": 32,
   "metadata": {},
   "outputs": [
    {
     "name": "stdout",
     "output_type": "stream",
     "text": [
      "76 72\n"
     ]
    }
   ],
   "source": [
    "a=random.randint(0,99)\n",
    "b=random.randint(0,99)\n",
    "print(a,b)"
   ]
  },
  {
   "cell_type": "code",
   "execution_count": 17,
   "metadata": {},
   "outputs": [
    {
     "name": "stdout",
     "output_type": "stream",
     "text": [
      "输入两数之和33\n",
      "结果为假\n"
     ]
    }
   ],
   "source": [
    "x=eval(input('输入两数之和'))\n",
    "if x==a+b:\n",
    "    print('结果为真')\n",
    "else:\n",
    "    print('结果为假')"
   ]
  },
  {
   "cell_type": "markdown",
   "metadata": {},
   "source": [
    "- 3\n",
    "![](../Photo/44.png)"
   ]
  },
  {
   "cell_type": "code",
   "execution_count": 19,
   "metadata": {},
   "outputs": [
    {
     "name": "stdout",
     "output_type": "stream",
     "text": [
      "today:0\n",
      "the number of days elapsed since today31\n",
      "3\n"
     ]
    }
   ],
   "source": [
    "day=eval(input('today:'))\n",
    "plus_day=eval(input('the number of days elapsed since today'))\n",
    "future_day=(day+plus_day)%7\n",
    "print(future_day)"
   ]
  },
  {
   "cell_type": "markdown",
   "metadata": {},
   "source": [
    "- 4\n",
    "![](../Photo/45.png)"
   ]
  },
  {
   "cell_type": "code",
   "execution_count": 22,
   "metadata": {},
   "outputs": [
    {
     "name": "stdout",
     "output_type": "stream",
     "text": [
      "x,y,z4,7,2\n",
      "2 4 7\n"
     ]
    }
   ],
   "source": [
    "x,y,z=eval(input('x,y,z'))\n",
    "if x>y>z:\n",
    "    print(z,y,x)\n",
    "elif x>z>y:\n",
    "    print(y,z,x)\n",
    "elif y>x>z:\n",
    "    print(z,x,y)\n",
    "elif y>z>x:\n",
    "    print(x,z,y)\n",
    "elif z>x>y:\n",
    "    print(y,x,z)\n",
    "elif z>y>x:\n",
    "    print(x,y,z)"
   ]
  },
  {
   "cell_type": "markdown",
   "metadata": {},
   "source": [
    "- 5\n",
    "![](../Photo/46.png)"
   ]
  },
  {
   "cell_type": "code",
   "execution_count": 24,
   "metadata": {},
   "outputs": [
    {
     "name": "stdout",
     "output_type": "stream",
     "text": [
      "price1,weight150,24.59\n",
      "price2,weight225,11.99\n",
      "Package 2 has the better price\n"
     ]
    }
   ],
   "source": [
    "price1,weight1=(eval(input('price1,weight1')))\n",
    "price2,weight2=(eval(input('price2,weight2')))\n",
    "x1=weight1/price1\n",
    "x2=weight2/price2\n",
    "if x1>x2:\n",
    "    print('Package 2 has the better price')\n",
    "elif x1<x2:\n",
    "    print('Package 1 has the better price')"
   ]
  },
  {
   "cell_type": "markdown",
   "metadata": {},
   "source": [
    "- 6\n",
    "![](../Photo/47.png)"
   ]
  },
  {
   "cell_type": "code",
   "execution_count": 40,
   "metadata": {},
   "outputs": [
    {
     "name": "stdout",
     "output_type": "stream",
     "text": [
      "输入月份2\n",
      "输入年份2000\n",
      "2000 年 2 月 有29天\n"
     ]
    }
   ],
   "source": [
    "month = eval(input('输入月份'))\n",
    "year = eval(input('输入年份'))\n",
    "if ((year%4==0) and (year%100!=0)) or (year%400==0):\n",
    "    if month<=7:\n",
    "        if month%2==0:\n",
    "            if month==2:\n",
    "                print(year,'年',month,'月','有29天')\n",
    "            else:\n",
    "                print(year,'年',month,'月','有30天')\n",
    "        else:\n",
    "            print(year,'年',month,'月','有31天')\n",
    "    else:\n",
    "        if month%2==0:\n",
    "            print(year,'年',month,'月','有31天')\n",
    "        else:\n",
    "            print(year,'年',month,'月','有30天')\n",
    "else :\n",
    "    if month<=7:\n",
    "        if month%2==0:\n",
    "            if month==2:\n",
    "                print(year,'年',month,'月','有28天')\n",
    "            else:\n",
    "                print(year,'年',month,'月','有30天')\n",
    "        else:\n",
    "            print(year,'年',month,'月','有31天')\n",
    "    else:\n",
    "        if month%2==0:\n",
    "            print(year,'年',month,'月','有31天')\n",
    "        else:\n",
    "            print(year,'年',month,'月','有30天')"
   ]
  },
  {
   "cell_type": "markdown",
   "metadata": {},
   "source": [
    "- 7\n",
    "![](../Photo/48.png)"
   ]
  },
  {
   "cell_type": "code",
   "execution_count": 39,
   "metadata": {},
   "outputs": [
    {
     "name": "stdout",
     "output_type": "stream",
     "text": [
      "正面为1，反面为0 输入猜测数字1\n",
      "你猜对啦\n"
     ]
    }
   ],
   "source": [
    "a = random.randint(0,1)\n",
    "b = eval(input('正面为1，反面为0 输入猜测数字'))\n",
    "if a == b:\n",
    "    print('你猜对啦')\n",
    "else :\n",
    "    print('笨蛋 猜错了')"
   ]
  },
  {
   "cell_type": "markdown",
   "metadata": {},
   "source": [
    "- 8\n",
    "![](../Photo/49.png)"
   ]
  },
  {
   "cell_type": "code",
   "execution_count": 46,
   "metadata": {},
   "outputs": [
    {
     "name": "stdout",
     "output_type": "stream",
     "text": [
      "输入0，1或20\n",
      "coumputer is 2\n",
      "computer won\n"
     ]
    }
   ],
   "source": [
    "2>1\n",
    "1>0\n",
    "0>2\n",
    "computer= random.randint(0,2)\n",
    "x=eval(input('输入0，1或2'))\n",
    "if computer>x:\n",
    "    print('coumputer is',computer)\n",
    "    print('computer won')\n",
    "if computer<x:\n",
    "    print('coumputer is',computer)\n",
    "    print('mine won')\n",
    "if computer==x:\n",
    "    print('coumputer is',computer)\n",
    "    print('it is a draw')"
   ]
  },
  {
   "cell_type": "markdown",
   "metadata": {},
   "source": [
    "- 9\n",
    "![](../Photo/50.png)"
   ]
  },
  {
   "cell_type": "code",
   "execution_count": 53,
   "metadata": {},
   "outputs": [
    {
     "name": "stdout",
     "output_type": "stream",
     "text": [
      "请输入年份2012\n",
      "请输入月份5\n",
      "请输入这是这个月的第几天12\n",
      "今天是星期日\n"
     ]
    }
   ],
   "source": [
    "y = int(input('请输入年份'))\n",
    "m = int(input('请输入月份'))\n",
    "q = int(input('请输入这是这个月的第几天'))\n",
    "a = q + ((26 * (m + 1)) / 10 )\n",
    "j = y // 100\n",
    "k = y % 100\n",
    "b = k + (k / 4) +(j / 4) + 5 * j\n",
    "h = (a+b)%7\n",
    "if x == 0: \n",
    "    print('今天是星期日')\n",
    "elif x == 1:\n",
    "            print('今天是星期一')\n",
    "elif x == 2: \n",
    "            print('今天是星期二')\n",
    "elif x == 3:\n",
    "            print('今天是星期三')\n",
    "elif x == 4:\n",
    "            print('今天是星期四')\n",
    "elif x == 5:\n",
    "            print('今天是星期五')\n",
    "elif x == 6:\n",
    "            print('今天是星期六')"
   ]
  },
  {
   "cell_type": "markdown",
   "metadata": {},
   "source": [
    "- 10\n",
    "![](../Photo/51.png)"
   ]
  },
  {
   "cell_type": "code",
   "execution_count": 71,
   "metadata": {},
   "outputs": [
    {
     "ename": "TypeError",
     "evalue": "'str' object is not callable",
     "output_type": "error",
     "traceback": [
      "\u001b[0;31m---------------------------------------------------------------------------\u001b[0m",
      "\u001b[0;31mTypeError\u001b[0m                                 Traceback (most recent call last)",
      "\u001b[0;32m<ipython-input-71-1fdbd93968bd>\u001b[0m in \u001b[0;36m<module>\u001b[0;34m\u001b[0m\n\u001b[1;32m     35\u001b[0m \u001b[0;32melif\u001b[0m \u001b[0mx\u001b[0m\u001b[0;34m==\u001b[0m\u001b[0;36m13\u001b[0m\u001b[0;34m:\u001b[0m\u001b[0;34m\u001b[0m\u001b[0;34m\u001b[0m\u001b[0m\n\u001b[1;32m     36\u001b[0m     \u001b[0mprint\u001b[0m\u001b[0;34m(\u001b[0m\u001b[0;34m'King'\u001b[0m\u001b[0;34m)\u001b[0m\u001b[0;34m\u001b[0m\u001b[0;34m\u001b[0m\u001b[0m\n\u001b[0;32m---> 37\u001b[0;31m \u001b[0mprint\u001b[0m\u001b[0;34m(\u001b[0m\u001b[0;34m'The card you picked is the'\u001b[0m\u001b[0;34m,\u001b[0m\u001b[0mcolour\u001b[0m\u001b[0;34m,\u001b[0m\u001b[0;34m'of'\u001b[0m \u001b[0;34m,\u001b[0m\u001b[0mx\u001b[0m\u001b[0;34m)\u001b[0m\u001b[0;34m\u001b[0m\u001b[0;34m\u001b[0m\u001b[0m\n\u001b[0m",
      "\u001b[0;31mTypeError\u001b[0m: 'str' object is not callable"
     ]
    }
   ],
   "source": [
    "colour=random.randint(1,4)\n",
    "x=random.randint(1,13)\n",
    "if colour==1:\n",
    "    print=('梅花')\n",
    "elif colour==2:\n",
    "    print=('红桃')\n",
    "elif colour==3:\n",
    "    print=('方块')\n",
    "elif colour==4:\n",
    "    print=('黑桃')\n",
    "elif x==1:\n",
    "    print('Ace')\n",
    "elif x==2:\n",
    "    print('2')\n",
    "elif x==3:\n",
    "    print('3')\n",
    "elif x==4:\n",
    "    print('4')\n",
    "elif x==5:\n",
    "    print('5')\n",
    "elif x==6:\n",
    "    print('6')\n",
    "elif x==7:\n",
    "    print('7')\n",
    "elif x==8:\n",
    "    print('8')\n",
    "elif x==9:\n",
    "    print('9')\n",
    "elif x==10:\n",
    "    print('10')\n",
    "elif x==11: \n",
    "    print('Jack')\n",
    "elif x==12:\n",
    "    print('Queen')\n",
    "elif x==13:\n",
    "    print('King')\n",
    "print('The card you picked is the',colour,'of' ,x)"
   ]
  },
  {
   "cell_type": "markdown",
   "metadata": {},
   "source": [
    "- 11\n",
    "![](../Photo/52.png)"
   ]
  },
  {
   "cell_type": "code",
   "execution_count": 55,
   "metadata": {},
   "outputs": [
    {
     "name": "stdout",
     "output_type": "stream",
     "text": [
      "输入一个三位整数123\n",
      "不是回文数\n"
     ]
    }
   ],
   "source": [
    "a = eval(input('输入一个三位整数'))\n",
    "if a%10==a//100:\n",
    "    print('是回文数')\n",
    "else:\n",
    "    print('不是回文数')"
   ]
  },
  {
   "cell_type": "markdown",
   "metadata": {},
   "source": [
    "- 12\n",
    "![](../Photo/53.png)"
   ]
  },
  {
   "cell_type": "code",
   "execution_count": 56,
   "metadata": {},
   "outputs": [
    {
     "name": "stdout",
     "output_type": "stream",
     "text": [
      "Enter three edges:1,2,3\n",
      "❌\n"
     ]
    }
   ],
   "source": [
    "a,b,c = eval(input('Enter three edges:'))\n",
    "if (a+b>c) and (a+c>b) and (b+c>a):\n",
    "    print('The perimeter is',a+b+c)\n",
    "else:\n",
    "    print('❌')"
   ]
  },
  {
   "cell_type": "code",
   "execution_count": null,
   "metadata": {},
   "outputs": [],
   "source": []
  }
 ],
 "metadata": {
  "kernelspec": {
   "display_name": "Python 3",
   "language": "python",
   "name": "python3"
  },
  "language_info": {
   "codemirror_mode": {
    "name": "ipython",
    "version": 3
   },
   "file_extension": ".py",
   "mimetype": "text/x-python",
   "name": "python",
   "nbconvert_exporter": "python",
   "pygments_lexer": "ipython3",
   "version": "3.7.3"
  }
 },
 "nbformat": 4,
 "nbformat_minor": 2
}
